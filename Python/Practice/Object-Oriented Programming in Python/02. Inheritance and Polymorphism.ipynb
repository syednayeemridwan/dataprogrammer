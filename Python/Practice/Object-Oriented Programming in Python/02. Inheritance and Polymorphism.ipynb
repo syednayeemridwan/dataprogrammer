{
 "cells": [
  {
   "cell_type": "markdown",
   "metadata": {},
   "source": [
    "- Define a class Player that has:\n",
    "- A class attribute MAX_POSITION with value 10.\n",
    "- The __init__() method that sets the position instance attribute to 0.\n",
    "- Print Player.MAX_POSITION.\n",
    "- Create a Player object p and print its MAX_POSITION."
   ]
  },
  {
   "cell_type": "code",
   "execution_count": 1,
   "metadata": {},
   "outputs": [
    {
     "name": "stdout",
     "output_type": "stream",
     "text": [
      "10\n",
      "10\n"
     ]
    }
   ],
   "source": [
    "# Create a Player class\n",
    "class Player:\n",
    "    MAX_POSITION = 10\n",
    "\n",
    "    def __init__(self, position = 0):\n",
    "        self.position = position\n",
    "\n",
    "# Print Player.MAX_POSITION       \n",
    "print(Player.MAX_POSITION )\n",
    "\n",
    "# Create a player p and print its MAX_POSITITON\n",
    "p = Player()\n",
    "print(p.MAX_POSITION)"
   ]
  },
  {
   "cell_type": "markdown",
   "metadata": {},
   "source": [
    "Add a move() method with a steps parameter such that:\n",
    "\n",
    "- if position plus steps is less than MAX_POSITION, then add steps to position and assign the result back to position;\n",
    "- otherwise, set position to MAX_POSITION."
   ]
  },
  {
   "cell_type": "code",
   "execution_count": 4,
   "metadata": {},
   "outputs": [
    {
     "name": "stdout",
     "output_type": "stream",
     "text": [
      "|----------\n",
      "----|------\n",
      "---------|-\n",
      "----------|\n"
     ]
    }
   ],
   "source": [
    "class Player:\n",
    "    MAX_POSITION = 10\n",
    "    MAX_SPEED = 3\n",
    "    \n",
    "    def __init__(self):\n",
    "        self.position = 0\n",
    "\n",
    "    # Add a move() method with steps parameter\n",
    "    def move(self, steps):\n",
    "        if self.position + steps < Player.MAX_POSITION:\n",
    "            self.position = self.position + steps\n",
    "        else:\n",
    "            self.position = Player.MAX_POSITION\n",
    "\n",
    "       \n",
    "    # This method provides a rudimentary visualization in the console    \n",
    "    def draw(self):\n",
    "        drawing = \"-\" * self.position + \"|\" +\"-\"*(Player.MAX_POSITION - self.position)\n",
    "        print(drawing)\n",
    "\n",
    "p = Player(); p.draw()\n",
    "p.move(4); p.draw()\n",
    "p.move(5); p.draw()\n",
    "p.move(3); p.draw()"
   ]
  },
  {
   "cell_type": "markdown",
   "metadata": {},
   "source": [
    "- Create two Player objects p1 and p2.\n",
    "- Print p1.MAX_SPEED and p2.MAX_SPEED.\n",
    "- Assign 7 to p1.MAX_SPEED.\n",
    "- Print p1.MAX_SPEED and p2.MAX_SPEED again.\n",
    "- Print Player.MAX_SPEED."
   ]
  },
  {
   "cell_type": "code",
   "execution_count": 5,
   "metadata": {},
   "outputs": [
    {
     "name": "stdout",
     "output_type": "stream",
     "text": [
      "MAX_SPEED of p1 and p2 before assignment:\n",
      "3\n",
      "3\n",
      "MAX_SPEED of p1 and p2 after assignment:\n",
      "7\n",
      "3\n",
      "MAX_SPEED of Player:\n",
      "3\n"
     ]
    }
   ],
   "source": [
    "# Create Players p1 and p2\n",
    "p1 = Player()\n",
    "p2 = Player()\n",
    "print(\"MAX_SPEED of p1 and p2 before assignment:\")\n",
    "# Print p1.MAX_SPEED and p2.MAX_SPEED\n",
    "print(p1.MAX_SPEED)\n",
    "print(p2.MAX_SPEED)\n",
    "\n",
    "# Assign 7 to p1.MAX_SPEED\n",
    "p1.MAX_SPEED = 7\n",
    "\n",
    "print(\"MAX_SPEED of p1 and p2 after assignment:\")\n",
    "# Print p1.MAX_SPEED and p2.MAX_SPEED\n",
    "print(p1.MAX_SPEED)\n",
    "print(p2.MAX_SPEED)\n",
    "\n",
    "print(\"MAX_SPEED of Player:\")\n",
    "# Print Player.MAX_SPEED\n",
    "print(Player.MAX_SPEED)"
   ]
  },
  {
   "cell_type": "markdown",
   "metadata": {},
   "source": [
    "Even though MAX_SPEED is shared across instances, assigning 7 to p1.MAX_SPEED didn't change the value of MAX_SPEED in p2, or in the Player class.\n",
    "\n",
    "So what happened? In fact, Python created a new instance attribute in p1, also called it MAX_SPEED, and assigned 7 to it, without touching the class attribute.\n",
    "\n",
    "Now let's change the class attribute value for real.\n",
    "\n",
    "- Modify the assignment to assign 7 to Player.MAX_SPEED instead."
   ]
  },
  {
   "cell_type": "code",
   "execution_count": 6,
   "metadata": {},
   "outputs": [
    {
     "name": "stdout",
     "output_type": "stream",
     "text": [
      "MAX_SPEED of p1 and p2 before assignment:\n",
      "3\n",
      "3\n",
      "MAX_SPEED of p1 and p2 after assignment:\n",
      "7\n",
      "7\n",
      "MAX_SPEED of Player:\n",
      "7\n"
     ]
    }
   ],
   "source": [
    "# Create Players p1 and p2\n",
    "p1, p2 = Player(), Player()\n",
    "\n",
    "print(\"MAX_SPEED of p1 and p2 before assignment:\")\n",
    "# Print p1.MAX_SPEED and p2.MAX_SPEED\n",
    "print(p1.MAX_SPEED)\n",
    "print(p2.MAX_SPEED)\n",
    "\n",
    "# ---MODIFY THIS LINE--- \n",
    "Player.MAX_SPEED = 7\n",
    "\n",
    "print(\"MAX_SPEED of p1 and p2 after assignment:\")\n",
    "# Print p1.MAX_SPEED and p2.MAX_SPEED\n",
    "print(p1.MAX_SPEED)\n",
    "print(p2.MAX_SPEED)\n",
    "\n",
    "print(\"MAX_SPEED of Player:\")\n",
    "# Print Player.MAX_SPEED\n",
    "print(Player.MAX_SPEED)"
   ]
  },
  {
   "cell_type": "markdown",
   "metadata": {},
   "source": [
    "Add a class method from_str() that:\n",
    "\n",
    "- accepts a string datestr of the format'YYYY-MM-DD',\n",
    "- splits datestr and converts each part into an integer,\n",
    "- returns an instance of the class with the attributes set to the values extracted from datestr."
   ]
  },
  {
   "cell_type": "code",
   "execution_count": 7,
   "metadata": {},
   "outputs": [
    {
     "name": "stdout",
     "output_type": "stream",
     "text": [
      "2020\n",
      "4\n",
      "30\n"
     ]
    }
   ],
   "source": [
    "class BetterDate:    \n",
    "    # Constructor\n",
    "    def __init__(self, year, month, day):\n",
    "      # Recall that Python allows multiple variable assignments in one line\n",
    "      self.year, self.month, self.day = year, month, day\n",
    "    \n",
    "    # Define a class method from_str\n",
    "    @classmethod\n",
    "    def from_str(cls, datestr):\n",
    "        # Split the string at \"-\" and convert each part to integer\n",
    "        parts = datestr.split(\"-\")\n",
    "        year, month, day = int(parts[0]), int(parts[1]), int(parts[2])\n",
    "        # Return the class instance\n",
    "        return cls(year, month, day)\n",
    "        \n",
    "bd = BetterDate.from_str('2020-04-30')   \n",
    "print(bd.year)\n",
    "print(bd.month)\n",
    "print(bd.day)"
   ]
  },
  {
   "cell_type": "markdown",
   "metadata": {},
   "source": [
    "For compatibility, you also want to be able to convert a datetime object into a BetterDate object.\n",
    "\n",
    "- Add a class method from_datetime() that accepts a datetime object as the argument, and uses its attributes .year, .month and .day to create a BetterDate object with the same attribute values."
   ]
  },
  {
   "cell_type": "code",
   "execution_count": 8,
   "metadata": {},
   "outputs": [
    {
     "name": "stdout",
     "output_type": "stream",
     "text": [
      "2022\n",
      "5\n",
      "23\n"
     ]
    }
   ],
   "source": [
    "# import datetime from datetime\n",
    "from datetime import datetime\n",
    "\n",
    "class BetterDate:\n",
    "    def __init__(self, year, month, day):\n",
    "      self.year, self.month, self.day = year, month, day\n",
    "      \n",
    "    @classmethod\n",
    "    def from_str(cls, datestr):\n",
    "        year, month, day = map(int, datestr.split(\"-\"))\n",
    "        return cls(year, month, day)\n",
    "      \n",
    "    # Define a class method from_datetime accepting a datetime object\n",
    "    @classmethod\n",
    "    def from_datetime(cls, date):\n",
    "      return cls(date.year, date.month, date.day)\n",
    "\n",
    "\n",
    "# You should be able to run the code below with no errors: \n",
    "today = datetime.today()     \n",
    "bd = BetterDate.from_datetime(today)   \n",
    "print(bd.year)\n",
    "print(bd.month)\n",
    "print(bd.day)"
   ]
  },
  {
   "cell_type": "markdown",
   "metadata": {},
   "source": [
    "we'll make use of the following two classes:\n",
    "```\n",
    "class Counter:\n",
    "    def __init__(self, count):\n",
    "       self.count = count\n",
    "\n",
    "    def add_counts(self, n):\n",
    "       self.count += n\n",
    "\n",
    "class Indexer(Counter):\n",
    "   pass\n",
    "```   "
   ]
  },
  {
   "cell_type": "markdown",
   "metadata": {},
   "source": [
    "- Add an empty Manager class that is inherited from Employee.\n",
    "- Create an object mng of the Manager class with the name Debbie Lashko and salary 86500.\n",
    "- Print the name of mng."
   ]
  },
  {
   "cell_type": "code",
   "execution_count": 9,
   "metadata": {},
   "outputs": [
    {
     "name": "stdout",
     "output_type": "stream",
     "text": [
      "Debbie Lashko\n"
     ]
    }
   ],
   "source": [
    "class Employee:\n",
    "  MIN_SALARY = 30000    \n",
    "\n",
    "  def __init__(self, name, salary=MIN_SALARY):\n",
    "      self.name = name\n",
    "      if salary >= Employee.MIN_SALARY:\n",
    "        self.salary = salary\n",
    "      else:\n",
    "        self.salary = Employee.MIN_SALARY\n",
    "        \n",
    "  def give_raise(self, amount):\n",
    "      self.salary += amount      \n",
    "        \n",
    "# Define a new class Manager inheriting from Employee\n",
    "class Manager(Employee):\n",
    "  pass\n",
    "\n",
    "# Define a Manager object\n",
    "mng = Manager('Debbie Lashko' , salary=86500)\n",
    "\n",
    "# Print mng's name\n",
    "print(mng.name)"
   ]
  },
  {
   "cell_type": "markdown",
   "metadata": {},
   "source": [
    "- Remove the pass statement and add a display() method to the Manager class that just prints the string \"Manager\" followed by the full name, e.g. \"Manager Katie Flatcher\"\n",
    "- Call the .display()method from the mnginstance."
   ]
  },
  {
   "cell_type": "code",
   "execution_count": 10,
   "metadata": {},
   "outputs": [
    {
     "name": "stdout",
     "output_type": "stream",
     "text": [
      "Debbie Lashko\n",
      "Manager Debbie Lashko\n"
     ]
    }
   ],
   "source": [
    "class Employee:\n",
    "  MIN_SALARY = 30000    \n",
    "\n",
    "  def __init__(self, name, salary=MIN_SALARY):\n",
    "      self.name = name\n",
    "      if salary >= Employee.MIN_SALARY:\n",
    "        self.salary = salary\n",
    "      else:\n",
    "        self.salary = Employee.MIN_SALARY\n",
    "  def give_raise(self, amount):\n",
    "    self.salary += amount      \n",
    "        \n",
    "# MODIFY Manager class and add a display method\n",
    "class Manager(Employee):\n",
    "  def display(self):     \n",
    "    print(\"Manager \"+self.name)\n",
    "\n",
    "mng = Manager(\"Debbie Lashko\", 86500)\n",
    "print(mng.name)\n",
    "\n",
    "# Call mng.display()\n",
    "mng.display()"
   ]
  },
  {
   "cell_type": "markdown",
   "metadata": {},
   "source": [
    "Add a constructor to Manager that:\n",
    "\n",
    "- accepts name, salary (default 50000), and project (default None)\n",
    "- calls the constructor of the Employee class with the name and salary parameters,\n",
    "- creates a project attribute and sets it to the project parameter."
   ]
  },
  {
   "cell_type": "code",
   "execution_count": 11,
   "metadata": {},
   "outputs": [],
   "source": [
    "class Employee:\n",
    "    def __init__(self, name, salary=30000):\n",
    "        self.name = name\n",
    "        self.salary = salary\n",
    "\n",
    "    def give_raise(self, amount):\n",
    "        self.salary += amount\n",
    "\n",
    "        \n",
    "class Manager(Employee):\n",
    "  # Add a constructor \n",
    "    def __init__(self, name, salary = 50000, project = None):\n",
    "\n",
    "        # Call the parent's constructor   \n",
    "        Employee.__init__(self, name, salary)\n",
    "\n",
    "        # Assign project attribute\n",
    "        self.project = project  \n",
    "\n",
    "  \n",
    "    def display(self):\n",
    "        print(\"Manager \", self.name)\n",
    " "
   ]
  },
  {
   "cell_type": "markdown",
   "metadata": {},
   "source": [
    "Add a give_raise() method to Manager that:\n",
    "\n",
    "- accepts the same parameters as Employee.give_raise(), plus a bonus parameter with the default value of 1.05 (bonus of 5%),\n",
    "- multiplies amount by bonus,\n",
    "- uses the Employee's method to raise salary by that product."
   ]
  },
  {
   "cell_type": "code",
   "execution_count": 12,
   "metadata": {},
   "outputs": [
    {
     "name": "stdout",
     "output_type": "stream",
     "text": [
      "79550.0\n",
      "81610.0\n"
     ]
    }
   ],
   "source": [
    "class Employee:\n",
    "    def __init__(self, name, salary=30000):\n",
    "        self.name = name\n",
    "        self.salary = salary\n",
    "\n",
    "    def give_raise(self, amount):\n",
    "        self.salary += amount\n",
    "\n",
    "        \n",
    "class Manager(Employee):\n",
    "    def display(self):\n",
    "        print(\"Manager \", self.name)\n",
    "\n",
    "    def __init__(self, name, salary=50000, project=None):\n",
    "        Employee.__init__(self, name, salary)\n",
    "        self.project = project\n",
    "\n",
    "    # Add a give_raise method\n",
    "    def give_raise(self, amount, bonus = 1.05):\n",
    "        Employee.give_raise(self, amount * bonus)\n",
    "    \n",
    "    \n",
    "mngr = Manager(\"Ashta Dunbar\", 78500)\n",
    "mngr.give_raise(1000)\n",
    "print(mngr.salary)\n",
    "mngr.give_raise(2000, bonus=1.03)\n",
    "print(mngr.salary)"
   ]
  },
  {
   "cell_type": "markdown",
   "metadata": {},
   "source": [
    "- Create a class Racer inherited from Player,\n",
    "- Assign 5 to MAX_SPEED in the body of the class.\n",
    "- Create a Player object p and a Racer object r (no arguments needed for the constructor).\n",
    "- Class attributes CAN be inherited, and the value of class attributes CAN be overwritten in the child class"
   ]
  },
  {
   "cell_type": "code",
   "execution_count": 13,
   "metadata": {},
   "outputs": [
    {
     "name": "stdout",
     "output_type": "stream",
     "text": [
      "p.MAX_SPEED =  7\n",
      "r.MAX_SPEED =  5\n",
      "p.MAX_POSITION =  10\n",
      "r.MAX_POSITION =  10\n"
     ]
    }
   ],
   "source": [
    "# Create a Racer class and set MAX_SPEED to 5\n",
    "class Racer(Player):\n",
    "    MAX_SPEED = 5\n",
    " \n",
    "# Create a Player and a Racer objects\n",
    "p = Player()\n",
    "r = Racer()\n",
    "\n",
    "print(\"p.MAX_SPEED = \", p.MAX_SPEED)\n",
    "print(\"r.MAX_SPEED = \", r.MAX_SPEED)\n",
    "\n",
    "print(\"p.MAX_POSITION = \", p.MAX_POSITION)\n",
    "print(\"r.MAX_POSITION = \", r.MAX_POSITION)"
   ]
  },
  {
   "cell_type": "markdown",
   "metadata": {},
   "source": [
    "- Import pandas as pd.\n",
    "- Define LoggedDF class inherited from pd.DataFrame.\n",
    "- Define a constructor with arguments *args and **kwargs that:\n",
    "- calls the pd.DataFrame constructor with the same arguments,\n",
    "- assigns datetime.today() to self.created_at."
   ]
  },
  {
   "cell_type": "code",
   "execution_count": 14,
   "metadata": {},
   "outputs": [
    {
     "name": "stdout",
     "output_type": "stream",
     "text": [
      "[[1 3]\n",
      " [2 4]]\n",
      "2022-05-23 14:58:34.619674\n"
     ]
    }
   ],
   "source": [
    "# Import pandas as pd\n",
    "import pandas as pd\n",
    "\n",
    "# Define LoggedDF inherited from pd.DataFrame and add the constructor\n",
    "class LoggedDF(pd.DataFrame):\n",
    "    def __init__(self, *args, **kwargs):\n",
    "        pd.DataFrame.__init__(self, *args, **kwargs)\n",
    "        self.created_at =  datetime.today()\n",
    "    \n",
    "ldf = LoggedDF({\"col1\": [1,2], \"col2\": [3,4]})\n",
    "print(ldf.values)\n",
    "print(ldf.created_at)"
   ]
  },
  {
   "cell_type": "markdown",
   "metadata": {},
   "source": [
    "- Add a to_csv() method to LoggedDF that:\n",
    "- copies self to a temporary DataFrame using .copy(),\n",
    "- creates a new column created_at in the temporary DataFrame and fills it with self.created_at\n",
    "- calls pd.DataFrame.to_csv() on the temporary variable."
   ]
  },
  {
   "cell_type": "code",
   "execution_count": 15,
   "metadata": {},
   "outputs": [],
   "source": [
    "# Import pandas as pd\n",
    "import pandas as pd\n",
    "\n",
    "# Define LoggedDF inherited from pd.DataFrame and add the constructor\n",
    "class LoggedDF(pd.DataFrame):\n",
    "  \n",
    "  def __init__(self, *args, **kwargs):\n",
    "    pd.DataFrame.__init__(self, *args, **kwargs)\n",
    "    self.created_at = datetime.today()\n",
    "    \n",
    "  def to_csv(self, *args, **kwargs):\n",
    "    # Copy self to a temporary DataFrame\n",
    "    temp = self.copy()\n",
    "    \n",
    "    # Create a new column filled with self.created_at\n",
    "    temp[\"created_at\"] = self.created_at\n",
    "    \n",
    "    # Call pd.DataFrame.to_csv on temp, passing in *args and **kwargs\n",
    "    pd.DataFrame.to_csv(temp, *args, **kwargs)"
   ]
  }
 ],
 "metadata": {
  "interpreter": {
   "hash": "1e949e87132dd83f1a7623eb88007e3532b03b66b77111be347aa4a383049722"
  },
  "kernelspec": {
   "display_name": "Python 3.8.11 ('env_py')",
   "language": "python",
   "name": "python3"
  },
  "language_info": {
   "codemirror_mode": {
    "name": "ipython",
    "version": 3
   },
   "file_extension": ".py",
   "mimetype": "text/x-python",
   "name": "python",
   "nbconvert_exporter": "python",
   "pygments_lexer": "ipython3",
   "version": "3.8.11"
  },
  "orig_nbformat": 4
 },
 "nbformat": 4,
 "nbformat_minor": 2
}
