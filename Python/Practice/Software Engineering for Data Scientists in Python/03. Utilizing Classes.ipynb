{
 "cells": [
  {
   "cell_type": "markdown",
   "metadata": {},
   "source": [
    "The structure is:\n",
    "```\n",
    "working_dir\n",
    "├── text_analyzer\n",
    "│    ├── __init__.py\n",
    "│    ├── counter_utils.py\n",
    "│    ├── document.py\n",
    "└── my_script.py\n",
    "```\n",
    "- You are working in document.py.\n",
    "- Finish the def statement that will create a new Document instance when a user calls Document().\n",
    "- Use your knowledge of PEP 8 conventions to complete the definition of the newly named class method."
   ]
  },
  {
   "cell_type": "code",
   "execution_count": 2,
   "metadata": {},
   "outputs": [],
   "source": [
    "# Define Document class\n",
    "class Document:\n",
    "    \"\"\"A class for text analysis\n",
    "    \n",
    "    :param text: string of text to be analyzed\n",
    "    :ivar text: string of text to be analyzed; set by `text` parameter\n",
    "    \"\"\"\n",
    "    # Method to create a new instance of MyClass\n",
    "    def __init__(self, text):\n",
    "        # Store text parameter to the text attribute\n",
    "        self.text = text\n"
   ]
  },
  {
   "cell_type": "markdown",
   "metadata": {},
   "source": [
    "-  Which of the following lines would correctly import this class in __init__.py using relative import syntax?\n",
    "- Remember to use the dot notation needed for a relative import. This dot notation let's Python know you're refering to a file in the same directory as your __init__.py"
   ]
  },
  {
   "cell_type": "code",
   "execution_count": 4,
   "metadata": {},
   "outputs": [],
   "source": [
    "# from .document import Document"
   ]
  },
  {
   "cell_type": "markdown",
   "metadata": {},
   "source": [
    "- import your text_analyzer package.\n",
    "- Create an instance of Document with the datacamp_tweet variable that's been loaded into your session.\n",
    "- Print the contents of the text attribute of your newly created Document instance."
   ]
  },
  {
   "cell_type": "code",
   "execution_count": 6,
   "metadata": {},
   "outputs": [],
   "source": [
    "# datacamp_tweet = 'Basic linear regression example. #DataCamp #DataScience #Python #sklearn'\n",
    "\n",
    "# # Import custom text_analyzer package\n",
    "# import text_analyzer\n",
    "\n",
    "# # Create an instance of Document with datacamp_tweet\n",
    "# my_document = text_analyzer.Document(text=datacamp_tweet)\n",
    "\n",
    "# # Print the text attribute of the Document instance\n",
    "# print(my_document.text)\n"
   ]
  },
  {
   "cell_type": "markdown",
   "metadata": {},
   "source": [
    "- Counter from collections has been loaded into your environment, as well as the function tokenize().\n",
    "- Add a method named count_words as a non-public method.\n",
    "- Give your non-public method the functionality to count the contents tokens attribute using Counter().\n",
    "- Utilize your new function in the __init__ method."
   ]
  },
  {
   "cell_type": "code",
   "execution_count": 7,
   "metadata": {},
   "outputs": [],
   "source": [
    "from collections import Counter\n",
    "\n",
    "class Document:\n",
    "  def __init__(self, text):\n",
    "    self.text = text\n",
    "    # Tokenize the document with non-public tokenize method\n",
    "    self.tokens = self._tokenize()\n",
    "    # Perform word count with non-public count_words method\n",
    "    self.word_counts = self._count_words()\n",
    "\n",
    "  def _tokenize(self):\n",
    "    return tokenize(self.text)\n",
    "\t\n",
    "  # non-public method to tally document's word counts with Counter\n",
    "  def _count_words(self):\n",
    "    return Counter(self.tokens)\n"
   ]
  },
  {
   "cell_type": "markdown",
   "metadata": {},
   "source": [
    "The Document class :\n",
    "```\n",
    "class Document:\n",
    "  def __init__(self, text):\n",
    "    self.text = text\n",
    "    # pre tokenize the document with non-public tokenize method\n",
    "    self.tokens = self._tokenize()\n",
    "    # pre tokenize the document with non-public count_words\n",
    "    self.word_counts = self._count_words()\n",
    "\n",
    "  def _tokenize(self):\n",
    "    return tokenize(self.text)\n",
    "\n",
    "  # non-public method to tally document's word counts with Counter\n",
    "  def _count_words(self):\n",
    "    return Counter(self.tokens)\n",
    "```\n",
    "\n",
    "- Create a new Document instance from the datacamp_tweets data set loaded into your environment. The datacamp_tweets object is a single string containing hundreds of tweets written by DataCamp & DataCamp users.\n",
    "- Print the first 5 tokens from datacamp_doc.\n",
    "- Print the top 5 most common words that were calculated by the non-public _count_words() method automatically in the Document.__init__ method."
   ]
  },
  {
   "cell_type": "code",
   "execution_count": 10,
   "metadata": {},
   "outputs": [],
   "source": [
    "# datacamp_tweets = \"Datacamp is awesome\"\n",
    "# # create a new document instance from datacamp_tweets\n",
    "# datacamp_doc = Document(text = datacamp_tweets)\n",
    "\n",
    "# # print the first 5 tokens from datacamp_doc\n",
    "# print(datacamp_doc.tokens[:5])\n",
    "\n",
    "# # print the top 5 most used words in datacamp_doc\n",
    "# print(datacamp_doc.word_counts.most_common(5))\n"
   ]
  },
  {
   "cell_type": "markdown",
   "metadata": {},
   "source": [
    "- Document has been preloaded in the session.\n",
    "- Complete the class statement to create a SocialMedia class that inherits from Document.\n",
    "- Define SocialMedia's __init__() method that initializes a Document."
   ]
  },
  {
   "cell_type": "code",
   "execution_count": 11,
   "metadata": {},
   "outputs": [],
   "source": [
    "# Define a SocialMedia class that is a child of the `Document class`\n",
    "class SocialMedia(Document):\n",
    "    def __init__(self, text):\n",
    "        Document.__init__(self, text)\n"
   ]
  },
  {
   "cell_type": "markdown",
   "metadata": {},
   "source": [
    "Document can be seen below:\n",
    "```\n",
    "class Document:\n",
    "    # Initialize a new Document instance\n",
    "    def __init__(self, text):\n",
    "        self.text = text\n",
    "        # Pre tokenize the document with non-public tokenize method\n",
    "        self.tokens = self._tokenize()\n",
    "        # Pre tokenize the document with non-public count_words\n",
    "        self.word_counts = self._count_words()\n",
    "\n",
    "    def _tokenize(self):\n",
    "        return tokenize(self.text)\n",
    "\n",
    "    # Non-public method to tally document's word counts\n",
    "    def _count_words(self):\n",
    "        # Use collections.Counter to count the document's tokens\n",
    "        return Counter(self.tokens)\n",
    "```\n",
    "\n",
    "- The function filter_word_counts() has been loaded in your session. Use help() to see its proper usage.\n",
    "- Finish the _count_hashtags method using filter_word_counts() so that only words_counts starting with # remain."
   ]
  },
  {
   "cell_type": "code",
   "execution_count": 12,
   "metadata": {},
   "outputs": [],
   "source": [
    "# Define a SocialMedia class that is a child of the `Document class`\n",
    "class SocialMedia(Document):\n",
    "    def __init__(self, text):\n",
    "        Document.__init__(self, text)\n",
    "        self.hashtag_counts = self._count_hashtags()\n",
    "        \n",
    "    def _count_hashtags(self):\n",
    "        # Filter attribute so only words starting with '#' remain\n",
    "        return filter_word_counts(self.word_counts, '#')\n"
   ]
  },
  {
   "cell_type": "markdown",
   "metadata": {},
   "source": [
    "- Fill in the first line ofSocialMedia's __init__ method using the parent class to properly utilize inheritance.\n",
    "- Properly call the _count_mentions method in __init__ to add a new feature to SocialMedia."
   ]
  },
  {
   "cell_type": "code",
   "execution_count": 13,
   "metadata": {},
   "outputs": [],
   "source": [
    "# Define a SocialMedia class that is a child of the `Document class`\n",
    "class SocialMedia(Document):\n",
    "    def __init__(self, text):\n",
    "        Document.__init__(self, text)\n",
    "        self.hashtag_counts = self._count_hashtags()\n",
    "        self.mention_counts = self._count_mentions()\n",
    "        \n",
    "    def _count_hashtags(self):\n",
    "        # Filter attribute so only words starting with '#' remain\n",
    "        return filter_word_counts(self.word_counts, first_char='#')      \n",
    "    \n",
    "    def _count_mentions(self):\n",
    "        # Filter attribute so only words starting with '@' remain\n",
    "        return filter_word_counts(self.word_counts, first_char='@')\n"
   ]
  },
  {
   "cell_type": "markdown",
   "metadata": {},
   "source": [
    "SocialMedia has been added to __init__.py for ease of use.\n",
    "```\n",
    "class SocialMedia(Document):\n",
    "    def __init__(self, text):\n",
    "        Document.__init__(self, text)\n",
    "        self.hashtag_counts = self._count_hashtags()\n",
    "        self.mention_counts = self._count_mentions()\n",
    "\n",
    "    def _count_hashtags(self):\n",
    "        # Filter attribute so only words starting with '#' remain\n",
    "        return filter_word_counts(self.word_counts, first_char='#')      \n",
    "\n",
    "    def _count_mentions(self):\n",
    "        # Filter attribute so only words starting with '@' remain\n",
    "        return filter_word_counts(self.word_counts, first_char='@')\n",
    "```\n",
    "\n",
    "- import your text_analyzer custom package.\n",
    "- Define dc_tweets as an instance of SocialMedia with the preloaded datacamp_tweets object as the text.\n",
    "- print the 5 most_common mentioned users in the data using the appropriate dc_tweets attribute.\n",
    "- Use text_analyzer's plot_counter() method to plot the most used hashtags in the data using the appropriate dc_tweets attribute."
   ]
  },
  {
   "cell_type": "code",
   "execution_count": 14,
   "metadata": {},
   "outputs": [],
   "source": [
    "# # Import custom text_analyzer package\n",
    "# import text_analyzer\n",
    "\n",
    "# # Create a SocialMedia instance with datacamp_tweets\n",
    "# dc_tweets = text_analyzer.SocialMedia(text=datacamp_tweets)\n",
    "\n",
    "# # Print the top five most most mentioned users\n",
    "# print(dc_tweets.mention_counts.most_common(5))\n",
    "\n",
    "# # Plot the most used hashtags\n",
    "# text_analyzer.plot_counter(dc_tweets.hashtag_counts )\n"
   ]
  },
  {
   "cell_type": "markdown",
   "metadata": {},
   "source": [
    "- import the text_analyzer package.\n",
    "- Define my_doc as an instance of Document with the text stored in datacamp_tweets. datacamp_tweets has been pre-loaded in your environment.\n",
    "- use dir() and help() to identify how to utilize the new method."
   ]
  },
  {
   "cell_type": "code",
   "execution_count": 15,
   "metadata": {},
   "outputs": [],
   "source": [
    "# # Import needed package\n",
    "# import text_analyzer\n",
    "\n",
    "# # Create instance of document\n",
    "# my_doc = text_analyzer.Document(text = datacamp_tweets)\n"
   ]
  },
  {
   "cell_type": "markdown",
   "metadata": {},
   "source": [
    "- Use dir to show all of my_doc's methods and attributes."
   ]
  },
  {
   "cell_type": "code",
   "execution_count": 16,
   "metadata": {},
   "outputs": [],
   "source": [
    "# dir(my_doc)"
   ]
  },
  {
   "cell_type": "markdown",
   "metadata": {},
   "source": [
    "- Run help() on the plot method you discovered with dir() to see how to properly use the functionality.\n",
    "- Plot my_doc's word counts using the new plot method."
   ]
  },
  {
   "cell_type": "code",
   "execution_count": 17,
   "metadata": {},
   "outputs": [],
   "source": [
    "# # Import needed package\n",
    "# import text_analyzer\n",
    "\n",
    "# # Create instance of document\n",
    "# my_doc = text_analyzer.Document(datacamp_tweets)\n",
    "\n",
    "# # Run help on my_doc's plot method\n",
    "# help(my_doc.plot_counts)\n",
    "\n",
    "# # Plot the word_counts of my_doc\n",
    "# my_doc.plot_counts('word_counts')\n"
   ]
  },
  {
   "cell_type": "markdown",
   "metadata": {},
   "source": [
    "- Complete the class statement so that Tweets inherits from SocialMedia. SocialMedia has already been loaded in your environment.\n",
    "- Use super() to call the __init__ method of the parent class.\n",
    "- Define retweet_text. Use help() to complete the call to filter_lines with the correct parameter name. filter_lines has already been loaded in your environment.\n",
    "- return retweet_text from _process_retweets as an instance of SocialMedia."
   ]
  },
  {
   "cell_type": "code",
   "execution_count": 18,
   "metadata": {},
   "outputs": [],
   "source": [
    "# # Define a Tweet class that inherits from SocialMedia\n",
    "# class Tweets(SocialMedia):\n",
    "#     def __init__(self, text):\n",
    "#         # Call parent's __init__ with super()\n",
    "#         super.__init__(self, text)\n",
    "#         # Define retweets attribute with non-public method\n",
    "#         self.retweets = self._process_retweets()\n",
    "\n",
    "#     def _process_retweets(self):\n",
    "#         # Filter tweet text to only include retweets\n",
    "#         retweet_text = filter_lines(self.text, first_chars='RT')\n",
    "#         # Return retweet_text as a SocialMedia object\n",
    "#         return SocialMedia(retweet_text)\n"
   ]
  },
  {
   "cell_type": "markdown",
   "metadata": {},
   "source": [
    "- import your text_analyzer package.\n",
    "- Define my_tweets as an instance of Tweets using the datacamp_tweets data that has been pre-loaded into your environment.\n",
    "- Use the plot_counts() method to plot the top 'hashtag_counts'.\n",
    "- Make sure to check the documentation for my_tweets.plot_counts."
   ]
  },
  {
   "cell_type": "code",
   "execution_count": 20,
   "metadata": {},
   "outputs": [],
   "source": [
    "# # Import needed package\n",
    "# import text_analyzer\n",
    "\n",
    "# # Create instance of Tweets\n",
    "# my_tweets = text_analyzer.Tweets(datacamp_tweets)\n",
    "\n",
    "# # Plot the most used hashtags in the tweets\n",
    "# my_tweets.plot_counts('hashtag_counts')\n"
   ]
  },
  {
   "cell_type": "markdown",
   "metadata": {},
   "source": [
    "- Use the plot_counts() method of the retweets attribute to plot the most used hashtags in the retweets subset of the data."
   ]
  },
  {
   "cell_type": "code",
   "execution_count": 21,
   "metadata": {},
   "outputs": [],
   "source": [
    "# # Import needed package\n",
    "# import text_analyzer\n",
    "\n",
    "# # Create instance of Tweets\n",
    "# my_tweets = text_analyzer.Tweets(datacamp_tweets)\n",
    "\n",
    "# # Plot the most used hashtags in the retweets\n",
    "# my_tweets.retweets.plot_counts('hashtag_counts')\n"
   ]
  }
 ],
 "metadata": {
  "interpreter": {
   "hash": "1e949e87132dd83f1a7623eb88007e3532b03b66b77111be347aa4a383049722"
  },
  "kernelspec": {
   "display_name": "Python 3.8.11 ('env_py')",
   "language": "python",
   "name": "python3"
  },
  "language_info": {
   "codemirror_mode": {
    "name": "ipython",
    "version": 3
   },
   "file_extension": ".py",
   "mimetype": "text/x-python",
   "name": "python",
   "nbconvert_exporter": "python",
   "pygments_lexer": "ipython3",
   "version": "3.8.11"
  },
  "orig_nbformat": 4
 },
 "nbformat": 4,
 "nbformat_minor": 2
}
