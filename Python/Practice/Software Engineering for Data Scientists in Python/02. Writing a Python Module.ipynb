{
 "cells": [
  {
   "cell_type": "markdown",
   "metadata": {},
   "source": [
    "What are the minimal requirements to make an import-able python package?\n",
    "- A directory with a blank file named `__init__.py`."
   ]
  },
  {
   "cell_type": "markdown",
   "metadata": {},
   "source": [
    "- The possible package names to import are the following: text_analyzer, textAnalyzer, TextAnalyzer, & __text_analyzer__.\n",
    "- import the package from the list above that follows the PEP 8 naming conventions."
   ]
  },
  {
   "cell_type": "code",
   "execution_count": 2,
   "metadata": {},
   "outputs": [],
   "source": [
    "# Import the package with a name that follows PEP 8\n",
    "# import text_analyzer\n"
   ]
  },
  {
   "cell_type": "markdown",
   "metadata": {},
   "source": [
    "The structure of your directory tree is printed below. \n",
    "```\n",
    "recognizing_packages\n",
    "├── MY_PACKAGE\n",
    "│&nbsp;&nbsp; └── _init_.py\n",
    "├── package\n",
    "│&nbsp;&nbsp; └── __init__.py\n",
    "├── package_py\n",
    "│&nbsp;&nbsp; └── __init__\n",
    "│&nbsp;&nbsp;     └── __init__.py\n",
    "├── py_package\n",
    "│&nbsp;&nbsp; └── __init__.py\n",
    "├── pyackage\n",
    "│&nbsp;&nbsp; └── init.py\n",
    "└── my_script.py\n",
    "```\n",
    "\n",
    "- Use the information from the context to identify the packages in the directory that follow the minimal structure.\n",
    "- import the two packages that follow the minimal package requirements.\n",
    "- Use help() to print information about each imported package."
   ]
  },
  {
   "cell_type": "code",
   "execution_count": 3,
   "metadata": {},
   "outputs": [],
   "source": [
    "# # Import local packages\n",
    "# import package\n",
    "# import py_package\n",
    "\n",
    "# # View the help for each package\n",
    "# help(package)\n",
    "# help(py_package)\n"
   ]
  },
  {
   "cell_type": "markdown",
   "metadata": {},
   "source": [
    " The structure of your package can be seen in the tree below. For the coding portions of this exercise, you will be working in the file counter_utils.py.\n",
    "```\n",
    "text_analyzer\n",
    "├── __init__.py\n",
    "└── counter_utils.py\n",
    "```"
   ]
  },
  {
   "cell_type": "markdown",
   "metadata": {},
   "source": [
    "- Define top_items using plot_counter's inputs."
   ]
  },
  {
   "cell_type": "code",
   "execution_count": 4,
   "metadata": {},
   "outputs": [],
   "source": [
    "# Import needed functionality\n",
    "from collections import Counter\n",
    "\n",
    "def plot_counter(counter, n_most_common=5):\n",
    "  # Subset the n_most_common items from the input counter\n",
    "  top_items = counter.most_common(n_most_common)\n",
    "  # Plot `top_items`\n",
    "  plot_counter_most_common(top_items)\n"
   ]
  },
  {
   "cell_type": "markdown",
   "metadata": {},
   "source": [
    "- Return the correct output from sum_counters."
   ]
  },
  {
   "cell_type": "code",
   "execution_count": 5,
   "metadata": {},
   "outputs": [],
   "source": [
    "# Import needed functionality\n",
    "from collections import Counter\n",
    "\n",
    "def sum_counters(counters):\n",
    "  # Sum the inputted counters\n",
    "  return sum(counters, Counter())\n"
   ]
  },
  {
   "cell_type": "markdown",
   "metadata": {},
   "source": [
    "- You just wrote two functions for your package in the file counter_utils.py named plot_counter & sum_counters. Which of the following lines would correctly import these functions in __init__.py using relative import syntax?"
   ]
  },
  {
   "cell_type": "code",
   "execution_count": 7,
   "metadata": {},
   "outputs": [],
   "source": [
    "# from .counter_utils import plot_counter, sum_counters"
   ]
  },
  {
   "cell_type": "markdown",
   "metadata": {},
   "source": [
    "The structure you've created can be seen in the tree below. You'll be working in my_script.py.\n",
    "```\n",
    "working_dir\n",
    "├── text_analyzer\n",
    "│    ├── __init__.py\n",
    "│    ├── counter_utils.py\n",
    "└── my_script.py\n",
    "```"
   ]
  },
  {
   "cell_type": "markdown",
   "metadata": {},
   "source": [
    "- import your text_analyzer at the top of the script.\n",
    "- Use the sum_counters() function from text_analyzer to aggregate all the Counters in word_counts.\n",
    "- Use the plot_counter() function from text_analyzer to visualize the tweet's most used words while tweeting."
   ]
  },
  {
   "cell_type": "code",
   "execution_count": 9,
   "metadata": {},
   "outputs": [],
   "source": [
    "# # Import local package\n",
    "# import text_analyzer\n",
    "\n",
    "# # Sum word_counts using sum_counters from text_analyzer\n",
    "# word_count_totals = text_analyzer.sum_counters(word_counts)\n",
    "\n",
    "# # Plot word_count_totals using plot_counter from text_analyzer\n",
    "# text_analyzer.plot_counter(word_count_totals)\n"
   ]
  },
  {
   "cell_type": "markdown",
   "metadata": {},
   "source": [
    "- Write the requirement for matplotlib with at least version 3.0.0 or above.\n",
    "- Write the requirement for numpy version 1.15.4 exactly.\n",
    "- Write the requirement for pandas with at most version 0.22.0.\n",
    "- Write a non-version specific requirement for pycodestyle"
   ]
  },
  {
   "cell_type": "code",
   "execution_count": 12,
   "metadata": {},
   "outputs": [],
   "source": [
    "requirements = \"\"\"\n",
    "matplotlib>=3.0.0\n",
    "numpy==1.15.4\n",
    "pandas<=0.22.0\n",
    "pycodestyle\n",
    "\"\"\""
   ]
  },
  {
   "cell_type": "markdown",
   "metadata": {},
   "source": [
    "```\n",
    "work_dir/\n",
    "├── my_package\n",
    "│&nbsp;&nbsp; ├── __init__.py\n",
    "│&nbsp;&nbsp; └── utils.py\n",
    "├── requirements.txt\n",
    "└── setup.py\n",
    "```\n",
    "Given that you are running a shell session in the work_dir structure shown above, what command would properly recreate the my_package environment from requirements.txt?\n",
    "- `pip install -r requirements.txt`"
   ]
  },
  {
   "cell_type": "markdown",
   "metadata": {},
   "source": [
    "Creating setup.py\n",
    "- import the needed function, setup, from the setuptools package.\n",
    "- Complete the name & packages arguments; keep in mind your package is located in a directory named text_analyzer.\n",
    "- List yourself as the author."
   ]
  },
  {
   "cell_type": "code",
   "execution_count": 14,
   "metadata": {},
   "outputs": [],
   "source": [
    "# # Import needed function from setuptools\n",
    "# from setuptools import setup\n",
    "\n",
    "# # Create proper setup to be used by pip\n",
    "# setup(name='text_analyzer',\n",
    "#       version='0.0.1',\n",
    "#       description='Perform and visualize a text anaylsis.',\n",
    "#       author='abir',\n",
    "#       packages=['text_analyzer'])\n"
   ]
  },
  {
   "cell_type": "markdown",
   "metadata": {},
   "source": [
    "- import the needed function, setup, from the setuptools package.\n",
    "- List yourself as the author.\n",
    "- Specify your install_requires to require matplotlib version 3.0.0 or above."
   ]
  },
  {
   "cell_type": "code",
   "execution_count": 16,
   "metadata": {},
   "outputs": [],
   "source": [
    "# # Import needed function from setuptools\n",
    "# from setuptools import setup\n",
    "\n",
    "# # Create proper setup to be used by pip\n",
    "# setup(name='text_analyzer',\n",
    "#       version='0.0.1',\n",
    "#       description='Perform and visualize a text anaylsis.',\n",
    "#       author='abir',\n",
    "#       packages=['text_analyzer'],\n",
    "#       install_requires=['matplotlib>=3.0.0'])\n"
   ]
  }
 ],
 "metadata": {
  "interpreter": {
   "hash": "1e949e87132dd83f1a7623eb88007e3532b03b66b77111be347aa4a383049722"
  },
  "kernelspec": {
   "display_name": "Python 3.8.11 ('env_py')",
   "language": "python",
   "name": "python3"
  },
  "language_info": {
   "codemirror_mode": {
    "name": "ipython",
    "version": 3
   },
   "file_extension": ".py",
   "mimetype": "text/x-python",
   "name": "python",
   "nbconvert_exporter": "python",
   "pygments_lexer": "ipython3",
   "version": "3.8.11"
  },
  "orig_nbformat": 4
 },
 "nbformat": 4,
 "nbformat_minor": 2
}
