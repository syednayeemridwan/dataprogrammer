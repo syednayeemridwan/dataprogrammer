{
 "cells": [
  {
   "cell_type": "markdown",
   "metadata": {},
   "source": [
    "- Find out how many characters the variable movie has.\n",
    "- Convert the numeric variable length_string to a string representation.\n",
    "- Concatenate the predefined variable statement and the variable to_string adding a space between them. Print out the result."
   ]
  },
  {
   "cell_type": "code",
   "execution_count": 1,
   "metadata": {},
   "outputs": [
    {
     "name": "stdout",
     "output_type": "stream",
     "text": [
      "Number of characters in this review: 40\n"
     ]
    }
   ],
   "source": [
    "movie = 'fox and kelley soon become bitter rivals'\n",
    "\n",
    "# Find characters in movie variable\n",
    "length_string = len(movie)\n",
    "\n",
    "# Convert to string\n",
    "to_string = str(length_string)\n",
    "\n",
    "# Predefined variable\n",
    "statement = \"Number of characters in this review:\"\n",
    "\n",
    "# Concatenate strings and print result\n",
    "print(statement+\" \"+to_string)"
   ]
  },
  {
   "cell_type": "markdown",
   "metadata": {},
   "source": [
    "- Select the first 32 characters of the variable movie1 and assign it to the variable first_part.\n",
    "- Select the substring going from the 43rd character to the end of movie1. Assign it to the variable last_part.\n",
    "- Select the substring going from the 33rd to the 42nd character of movie2. Assign it to the variable middle_part.\n",
    "- Print the concatenation of the variables first_part, middle_part and last_part in that order. Print the variable movie2 and compare them."
   ]
  },
  {
   "cell_type": "code",
   "execution_count": 2,
   "metadata": {},
   "outputs": [
    {
     "name": "stdout",
     "output_type": "stream",
     "text": [
      "the most significant tension of _election_ is the potential relationship between a teacher\n",
      "the most significant tension of _election_ is the potential relationship between a teacher\n"
     ]
    }
   ],
   "source": [
    "movie1 = 'the most significant tension of _election_ is the potential relationship between a teacher'\n",
    "movie2 = movie1\n",
    "\n",
    "# Select the first 32 characters of movie1\n",
    "first_part = movie1[:32]\n",
    "\n",
    "# Select from 43rd character to the end of movie1\n",
    "last_part = movie1[42:]\n",
    "\n",
    "# Select from 33rd to the 42nd character\n",
    "middle_part = movie2[32:42]\n",
    "\n",
    "# Print concatenation and movie2 variable\n",
    "print(first_part+middle_part+last_part) \n",
    "print(movie2)\n"
   ]
  },
  {
   "cell_type": "markdown",
   "metadata": {},
   "source": [
    "- Extract the substring from the 12th to the 30th character from the variable movie which corresponds to the movie title. Store it in the variable movie_title.\n",
    "- Get the palindrome by reversing the string contained in movie_title.\n",
    "- Complete the code to print out the movie_title if it is a palindrome."
   ]
  },
  {
   "cell_type": "code",
   "execution_count": 3,
   "metadata": {},
   "outputs": [],
   "source": [
    "# Get the word\n",
    "movie_title = movie[11:30]\n",
    "\n",
    "# Obtain the palindrome\n",
    "palindrome = movie_title[::-1]\n",
    "\n",
    "# Print the word if it's a palindrome\n",
    "if movie_title == palindrome:\n",
    "\tprint(movie_title)"
   ]
  },
  {
   "cell_type": "markdown",
   "metadata": {},
   "source": [
    "- Convert the string in the variable movie to lowercase. Print the result.\n",
    "- Remove the $ that occur at the start and at the end of the string contained in movie_lower. Print the results.\n",
    "- Split the string contained in movie_no_sign into as many substrings as possible. Print the results.\n",
    "- To get the root of the second word contained in movie_split, select all the characters except the last one."
   ]
  },
  {
   "cell_type": "code",
   "execution_count": 4,
   "metadata": {},
   "outputs": [
    {
     "name": "stdout",
     "output_type": "stream",
     "text": [
      "fox and kelley soon become bitter rivals\n",
      "fox and kelley soon become bitter rivals\n",
      "['fox', 'and', 'kelley', 'soon', 'become', 'bitter', 'rivals']\n",
      "an\n"
     ]
    }
   ],
   "source": [
    "# Convert to lowercase and print the result\n",
    "movie_lower = movie.lower()\n",
    "print(movie_lower)\n",
    "\n",
    "# Remove specified character and print the result\n",
    "movie_no_sign = movie_lower.strip(\"$\")\n",
    "print(movie_no_sign)\n",
    "\n",
    "# Split the string into substrings and print the result\n",
    "movie_split = movie_no_sign.split()\n",
    "print(movie_split)\n",
    "\n",
    "# Select root word and print the result\n",
    "word_root = movie_split[1][:-1]\n",
    "print(word_root)"
   ]
  },
  {
   "cell_type": "markdown",
   "metadata": {},
   "source": [
    "- Remove tag <\\i> from the end of the string. Print the results.\n",
    "- Split the string contained in movie_tag using the commas as a separating element. Print the results.\n",
    "- Join back together the list of substring contained in movie_no_comma using a space as a join element. Print the results."
   ]
  },
  {
   "cell_type": "code",
   "execution_count": 5,
   "metadata": {},
   "outputs": [
    {
     "name": "stdout",
     "output_type": "stream",
     "text": [
      "fox and kelley soon become bitter rivals\n",
      "['fox and kelley soon become bitter rivals']\n",
      "fox and kelley soon become bitter rivals\n"
     ]
    }
   ],
   "source": [
    "# Remove tags happening at the end and print results\n",
    "movie_tag = movie.rstrip(\"<\\i>\")\n",
    "print(movie_tag)\n",
    "\n",
    "# Split the string using commas and print results\n",
    "movie_no_comma = movie_tag.split(\",\")\n",
    "print(movie_no_comma)\n",
    "\n",
    "# Join back together and print results\n",
    "movie_join = \" \".join(movie_no_comma)\n",
    "print(movie_join)"
   ]
  },
  {
   "cell_type": "markdown",
   "metadata": {},
   "source": [
    "- Split the string file into many substrings at line boundaries.\n",
    "- Print out the resulting variable file_split.\n",
    "- Complete the for-loop to split the strings into many substrings using commas as a separator element."
   ]
  },
  {
   "cell_type": "code",
   "execution_count": 6,
   "metadata": {},
   "outputs": [
    {
     "name": "stdout",
     "output_type": "stream",
     "text": [
      "[\"'mtv films election, a high school comedy, is a current example\", 'from there,']\n",
      "[\"'mtv films election\", ' a high school comedy', ' is a current example']\n",
      "['from there', '']\n"
     ]
    }
   ],
   "source": [
    "file = \"'mtv films election, a high school comedy, is a current example\\nfrom there,\"\n",
    "# Split string at line boundaries\n",
    "file_split = file.splitlines()\n",
    "\n",
    "# Print file_split\n",
    "print(file_split)\n",
    "\n",
    "# Complete for-loop to split by commas\n",
    "for substring in file_split:\n",
    "    substring_split = substring.split(\",\")\n",
    "    print(substring_split)"
   ]
  },
  {
   "cell_type": "markdown",
   "metadata": {},
   "source": [
    "- Find if the substring actor occurs between the characters with index 37 and 41 inclusive. If it is not detected, print the statement Word not found.\n",
    "- Replace actor actor with the substring actor if actor occurs only two repeated times.\n",
    "- Replace actor actor actor with the substring actor if actor appears three repeated times."
   ]
  },
  {
   "cell_type": "code",
   "execution_count": 7,
   "metadata": {},
   "outputs": [
    {
     "name": "stdout",
     "output_type": "stream",
     "text": [
      "Word not found\n",
      "Word not found\n",
      "Word not found\n",
      "Word not found\n",
      "Word not found\n",
      "Word not found\n",
      "Word not found\n",
      "Word not found\n",
      "Word not found\n",
      "Word not found\n",
      "Word not found\n",
      "Word not found\n",
      "Word not found\n",
      "Word not found\n",
      "Word not found\n",
      "Word not found\n",
      "Word not found\n",
      "Word not found\n",
      "Word not found\n",
      "Word not found\n",
      "Word not found\n",
      "Word not found\n",
      "Word not found\n",
      "Word not found\n",
      "Word not found\n",
      "Word not found\n",
      "Word not found\n",
      "Word not found\n",
      "Word not found\n",
      "Word not found\n",
      "Word not found\n",
      "Word not found\n",
      "Word not found\n",
      "Word not found\n",
      "Word not found\n",
      "Word not found\n",
      "Word not found\n",
      "Word not found\n",
      "Word not found\n",
      "Word not found\n"
     ]
    }
   ],
   "source": [
    "movies = movie\n",
    "for movie in movies:\n",
    "  \t# If actor is not found between character 37 and 41 inclusive\n",
    "    # Print word not found\n",
    "    if movie.find(\"actor\", 37, 42) == -1:\n",
    "        print(\"Word not found\")\n",
    "    # Count occurrences and replace two with one\n",
    "    elif movie.count(\"actor\") == 2:  \n",
    "        print(movie.replace(\"actor actor\", \"actor\"))\n",
    "    else:\n",
    "        # Replace three occurrences with one\n",
    "        print(movie.replace(\"actor actor actor\", \"actor\"))"
   ]
  },
  {
   "cell_type": "markdown",
   "metadata": {},
   "source": [
    "- Find the index where money occurs between characters with index 12 and 50. If not found, the method should return -1."
   ]
  },
  {
   "cell_type": "code",
   "execution_count": 10,
   "metadata": {},
   "outputs": [
    {
     "name": "stdout",
     "output_type": "stream",
     "text": [
      "-1\n",
      "-1\n",
      "-1\n",
      "-1\n",
      "-1\n",
      "-1\n",
      "-1\n",
      "-1\n",
      "-1\n",
      "-1\n",
      "-1\n",
      "-1\n",
      "-1\n",
      "-1\n",
      "-1\n",
      "-1\n",
      "-1\n",
      "-1\n",
      "-1\n",
      "-1\n",
      "-1\n",
      "-1\n",
      "-1\n",
      "-1\n",
      "-1\n",
      "-1\n",
      "-1\n",
      "-1\n",
      "-1\n",
      "-1\n",
      "-1\n",
      "-1\n",
      "-1\n",
      "-1\n",
      "-1\n",
      "-1\n",
      "-1\n",
      "-1\n",
      "-1\n",
      "-1\n"
     ]
    }
   ],
   "source": [
    "for movie in movies:\n",
    "  # Find the first occurrence of word\n",
    "  print(movie.find('money', 12, 51))"
   ]
  },
  {
   "cell_type": "markdown",
   "metadata": {},
   "source": [
    "- Find the index where money occurs between characters with index 12 and 50. If not found, it should raise an error."
   ]
  },
  {
   "cell_type": "code",
   "execution_count": 11,
   "metadata": {},
   "outputs": [
    {
     "name": "stdout",
     "output_type": "stream",
     "text": [
      "substring not found\n",
      "substring not found\n",
      "substring not found\n",
      "substring not found\n",
      "substring not found\n",
      "substring not found\n",
      "substring not found\n",
      "substring not found\n",
      "substring not found\n",
      "substring not found\n",
      "substring not found\n",
      "substring not found\n",
      "substring not found\n",
      "substring not found\n",
      "substring not found\n",
      "substring not found\n",
      "substring not found\n",
      "substring not found\n",
      "substring not found\n",
      "substring not found\n",
      "substring not found\n",
      "substring not found\n",
      "substring not found\n",
      "substring not found\n",
      "substring not found\n",
      "substring not found\n",
      "substring not found\n",
      "substring not found\n",
      "substring not found\n",
      "substring not found\n",
      "substring not found\n",
      "substring not found\n",
      "substring not found\n",
      "substring not found\n",
      "substring not found\n",
      "substring not found\n",
      "substring not found\n",
      "substring not found\n",
      "substring not found\n",
      "substring not found\n"
     ]
    }
   ],
   "source": [
    "for movie in movies:\n",
    "  try:\n",
    "    # Find the first occurrence of word\n",
    "  \tprint(movie.index('money', 12, 51))\n",
    "  except ValueError:\n",
    "    print(\"substring not found\")"
   ]
  },
  {
   "cell_type": "markdown",
   "metadata": {},
   "source": [
    "- Replace the substring isn't with the word is.\n",
    "- Replace the substring important with the word insignificant.\n",
    "- Print out the result contained in the variable movies_antonym."
   ]
  },
  {
   "cell_type": "code",
   "execution_count": 12,
   "metadata": {},
   "outputs": [
    {
     "name": "stdout",
     "output_type": "stream",
     "text": [
      "fox and kelley soon become bitter rivals\n"
     ]
    }
   ],
   "source": [
    "# Replace negations \n",
    "movies_no_negation = movies.replace(\"isn't\", \"is\")\n",
    "\n",
    "# Replace important\n",
    "movies_antonym = movies_no_negation.replace(\"important\", \"insignificant\")\n",
    "\n",
    "# Print out\n",
    "print(movies_antonym )"
   ]
  },
  {
   "cell_type": "code",
   "execution_count": null,
   "metadata": {},
   "outputs": [],
   "source": []
  }
 ],
 "metadata": {
  "interpreter": {
   "hash": "1e949e87132dd83f1a7623eb88007e3532b03b66b77111be347aa4a383049722"
  },
  "kernelspec": {
   "display_name": "Python 3.8.11 ('env_py')",
   "language": "python",
   "name": "python3"
  },
  "language_info": {
   "codemirror_mode": {
    "name": "ipython",
    "version": 3
   },
   "file_extension": ".py",
   "mimetype": "text/x-python",
   "name": "python",
   "nbconvert_exporter": "python",
   "pygments_lexer": "ipython3",
   "version": "3.8.11"
  },
  "orig_nbformat": 4
 },
 "nbformat": 4,
 "nbformat_minor": 2
}
