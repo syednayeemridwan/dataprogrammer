{
 "cells": [
  {
   "cell_type": "markdown",
   "metadata": {},
   "source": [
    "- Use cookiecutter to create a blank Python package to restart impyrial. Use the template at https://github.com/audreyfeldroy/cookiecutter-pypackage.git.\n",
    "- Set the project_name and project_slug to impyrial.\n",
    "- Fill in the other options however you'd like."
   ]
  },
  {
   "cell_type": "code",
   "execution_count": 1,
   "metadata": {},
   "outputs": [],
   "source": [
    "# cookiecutter https://github.com/audreyfeldroy/cookiecutter-pypackage.git"
   ]
  },
  {
   "cell_type": "markdown",
   "metadata": {},
   "source": [
    "```\n",
    "full_name [Audrey Roy Greenfeld]: Syed Nayeem Ridwan\n",
    "email [audreyr@example.com]: syednayeemridwan@gmail.com\n",
    "github_username [audreyr]: syednayeemridwan\n",
    "project_name [Python Boilerplate]: impyrial\n",
    "project_slug [impyrial]: impyrial\n",
    "project_short_description [Python Boilerplate contains all the boilerplate you need to create a Python package.]: Impyrial Estimation of pythagorus\n",
    "pypi_username [syednayeemridwan]: something\n",
    "version [0.1.0]: \n",
    "use_pytest [n]: y\n",
    "use_black [n]: n\n",
    "use_pypi_deployment_with_travis [y]: n\n",
    "add_pyup_badge [n]: n\n",
    "Select command_line_interface:\n",
    "1 - Click\n",
    "2 - Argparse\n",
    "3 - No command-line interface\n",
    "Choose from 1, 2, 3 [1]: 3\n",
    "create_author_file [y]: y\n",
    "Select open_source_license:\n",
    "1 - MIT license\n",
    "2 - BSD license\n",
    "3 - ISC license\n",
    "4 - Apache Software License 2.0\n",
    "5 - GNU General Public License v3\n",
    "6 - Not open source\n",
    "Choose from 1, 2, 3, 4, 5, 6 [1]: 1\n",
    "```"
   ]
  },
  {
   "cell_type": "markdown",
   "metadata": {},
   "source": [
    "What is the purpose of the CONTRIBUTING.md file?\n",
    "- To tell potential users and developers how they can get involved with your project."
   ]
  },
  {
   "cell_type": "markdown",
   "metadata": {},
   "source": [
    "Inside history.md /changelog file :\n",
    "- Add a subtitle above the 0.1.0 section for a new minor version release.\n",
    "- Add a \"Fixed\" section for the new release, similar to the \"Added\" section for 0.1.0.\n",
    "- Add a bullet point to tell the users that \"Bug fixed in `length` subpackage for inches-to-feet conversion.\"\n",
    "- Add a \"Deprecated\" section and add the bullet point \"Removed Python 2.7 support.\""
   ]
  },
  {
   "cell_type": "code",
   "execution_count": 2,
   "metadata": {},
   "outputs": [],
   "source": [
    "# # History\n",
    "\n",
    "# ## 0.2.0\n",
    "# ### Fixed\n",
    "# - New minor version release.\n",
    "# - Bug fixed in `length` subpackage for inches-to-feet conversion.\n",
    "\n",
    "# ### Deprecated\n",
    "# - Removed Python 2.7 support.\n",
    "\n",
    "# ## 0.1.0\n",
    "# ### Added\n",
    "# - First release on PyPI.\n"
   ]
  },
  {
   "cell_type": "markdown",
   "metadata": {},
   "source": [
    "- In the terminal, use bumpversion once to increase the minor version number by one."
   ]
  },
  {
   "cell_type": "code",
   "execution_count": 3,
   "metadata": {},
   "outputs": [],
   "source": [
    "# bumpversion minor"
   ]
  },
  {
   "cell_type": "markdown",
   "metadata": {},
   "source": [
    "- Remove some of the classifiers so that only the versions of Python that your package supports are included."
   ]
  },
  {
   "cell_type": "code",
   "execution_count": 4,
   "metadata": {},
   "outputs": [],
   "source": [
    "# #!/usr/bin/env python\n",
    "\n",
    "# \"\"\"The setup script.\"\"\"\n",
    "\n",
    "# from setuptools import setup, find_packages\n",
    "\n",
    "# with open('README.md') as readme_file:\n",
    "#     readme = readme_file.read()\n",
    "\n",
    "# with open('HISTORY.md') as history_file:\n",
    "#     history = history_file.read()\n",
    "\n",
    "# setup(\n",
    "#     author=\"All credit to you\",\n",
    "#     author_email='you@chapter4.com',\n",
    "#     description=\"A package for converting between imperial unit lengths and weights.\",\n",
    "#     name='impyrial',\n",
    "#     packages=find_packages(include=['impyrial', 'impyrial.*']),\n",
    "#     version='0.1.0',\n",
    "#     install_requires=['numpy>=1.10', 'pandas'],\n",
    "#     python_requires=\"==3.6.*\",\n",
    "#     classifiers=[\n",
    "#         'Development Status :: 2 - Pre-Alpha',\n",
    "#         'Intended Audience :: Developers',\n",
    "#         'License :: OSI Approved :: MIT License',\n",
    "#         'Natural Language :: English',        \n",
    "#         'Programming Language :: Python :: 3.6',        \n",
    "#         'Programming Language :: Python :: 3',\n",
    "#         'Programming Language :: Python :: 3.8',\n",
    "#     ],\n",
    "#     license=\"MIT license\",\n",
    "#     long_description=readme + '\\n\\n' + history,\n",
    "#     long_description_content_type='text/markdown',\n",
    "#     keywords='impyrial',    \n",
    "#     zip_safe=False,\n",
    "# )\n"
   ]
  },
  {
   "cell_type": "markdown",
   "metadata": {},
   "source": [
    "- Use make to remove the old distributions.\n",
    "- Use make to run the package tests.\n",
    "- Use make to build new source and wheel distributions."
   ]
  },
  {
   "cell_type": "code",
   "execution_count": 5,
   "metadata": {},
   "outputs": [],
   "source": [
    "# make help\n",
    "# make clean\n",
    "# make test\n",
    "# make dist"
   ]
  }
 ],
 "metadata": {
  "interpreter": {
   "hash": "1e949e87132dd83f1a7623eb88007e3532b03b66b77111be347aa4a383049722"
  },
  "kernelspec": {
   "display_name": "Python 3.8.11 ('env_py')",
   "language": "python",
   "name": "python3"
  },
  "language_info": {
   "codemirror_mode": {
    "name": "ipython",
    "version": 3
   },
   "file_extension": ".py",
   "mimetype": "text/x-python",
   "name": "python",
   "nbconvert_exporter": "python",
   "pygments_lexer": "ipython3",
   "version": "3.8.11"
  },
  "orig_nbformat": 4
 },
 "nbformat": 4,
 "nbformat_minor": 2
}
