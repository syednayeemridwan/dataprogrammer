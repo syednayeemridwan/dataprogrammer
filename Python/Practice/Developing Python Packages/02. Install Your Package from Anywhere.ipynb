{
 "cells": [
  {
   "cell_type": "markdown",
   "metadata": {},
   "source": [
    "- Import the setup() and find_packages() functions from setuptools.\n",
    "- Fill out the metadata, including your name. Give it the version number 0.1.0 and the description \"A package for converting imperial lengths and weights.\"\n",
    "- Use the find_packages() function to include the package and its subpackages."
   ]
  },
  {
   "cell_type": "code",
   "execution_count": 2,
   "metadata": {},
   "outputs": [],
   "source": [
    "# # Import required functions\n",
    "# from setuptools import setup, find_packages\n",
    "\n",
    "# # Call setup function\n",
    "# setup(\n",
    "#     author=\"abir\",\n",
    "#     description=\"A package for converting imperial lengths and weights.\",\n",
    "#     name=\"impyrial\",\n",
    "#     packages=find_packages(include=[\"impyrial\", \"impyrial.*\"]),\n",
    "#     version=\"0.1.0\",\n",
    "# )\n"
   ]
  },
  {
   "cell_type": "markdown",
   "metadata": {},
   "source": [
    "- Using the terminal, install the package in editable mode using pip."
   ]
  },
  {
   "cell_type": "code",
   "execution_count": 3,
   "metadata": {},
   "outputs": [],
   "source": [
    "# pip install -e ."
   ]
  },
  {
   "cell_type": "markdown",
   "metadata": {},
   "source": [
    "- Run example_script.py to check what 2 lb (2 pounds weight) is in ounces. The real answer should be 32.\n",
    "- Fix the bug in the impyrial/weight/core.py file. The OUNCES_PER_POUND variable should be 16.0.\n",
    "- Run the example script again to ensure that your bug is fixed."
   ]
  },
  {
   "cell_type": "markdown",
   "metadata": {},
   "source": [
    "THIS IS ONLY POSSIBLE IF PACKAGE IS INSTALLED IN EDITABLE MODE"
   ]
  },
  {
   "cell_type": "markdown",
   "metadata": {},
   "source": [
    "- Add numpy version 1.10 or above as a dependency.\n",
    "- Add any version of pandas as a dependency."
   ]
  },
  {
   "cell_type": "code",
   "execution_count": 5,
   "metadata": {},
   "outputs": [],
   "source": [
    "# from setuptools import setup, find_packages\n",
    "\n",
    "# # Add install requirements\n",
    "# setup(\n",
    "#     author=\"<your-name>\",\n",
    "#     description=\"A package for converting imperial lengths and weights.\",\n",
    "#     name=\"impyrial\",\n",
    "#     packages=find_packages(include=[\"impyrial\", \"impyrial.*\"]),\n",
    "#     version=\"0.1.0\",\n",
    "#     install_requires=['pandas', 'numpy>=1.10'],\n",
    "# )\n"
   ]
  },
  {
   "cell_type": "markdown",
   "metadata": {},
   "source": [
    "- Use pip to save the packages installed into a file called requirements.txt in the top level of impyrial."
   ]
  },
  {
   "cell_type": "code",
   "execution_count": 7,
   "metadata": {},
   "outputs": [],
   "source": [
    "# pip freeze > requirements.txt"
   ]
  },
  {
   "cell_type": "markdown",
   "metadata": {},
   "source": [
    "- Add a title at the top of the file for impyrial.\n",
    "- In the second sentence of the description, turn the word \"DataCamp\" into a link to https://www.datacamp.com.\n",
    "- Add backticks so that the usage example will display as code."
   ]
  },
  {
   "cell_type": "markdown",
   "metadata": {},
   "source": [
    "# impyrial Package\n",
    "\n",
    "A package for converting between imperial unit lengths and weights.\n",
    "\n",
    "This package was created for the [DataCamp](https://www.datacamp.com) course \"Developing Python Packages\".\n",
    "\n",
    "### Features\n",
    "\n",
    "- Convert lengths between miles, yards, feet and inches.\n",
    "- Convert weights between hundredweight, stone, pounds and ounces.\n",
    "\n",
    "### Usage\n",
    "\n",
    "```\n",
    "import impyrial\n",
    "\n",
    "# Convert 500 miles to feet\n",
    "impyrial.length.convert_unit(500, from_unit='yd', to_unit='ft')  # returns 1500.0\n",
    "\n",
    "# Convert 100 ounces to pounds\n",
    "impyrial.weight.convert_unit(100, from_unit='oz', to_unit='lb')  # returns 6.25\n",
    "```\n"
   ]
  },
  {
   "cell_type": "markdown",
   "metadata": {},
   "source": [
    "- Create a MANIFEST.in file in the topmost package directory.\n",
    "- Add the README.md and LICENSE files to MANIFEST.in so they are included with your source code."
   ]
  },
  {
   "cell_type": "markdown",
   "metadata": {},
   "source": [
    "- In the terminal, run setup.py with the appropriate arguments to build source and wheel distributions."
   ]
  },
  {
   "cell_type": "code",
   "execution_count": 8,
   "metadata": {},
   "outputs": [],
   "source": [
    "# python setup.py sdist bdist_wheel"
   ]
  },
  {
   "cell_type": "markdown",
   "metadata": {},
   "source": [
    "- Use twine to upload your distributions."
   ]
  },
  {
   "cell_type": "code",
   "execution_count": 9,
   "metadata": {},
   "outputs": [],
   "source": [
    "# twine upload dist/*\n",
    "# twine upload -r testpypi dist/*"
   ]
  }
 ],
 "metadata": {
  "interpreter": {
   "hash": "1e949e87132dd83f1a7623eb88007e3532b03b66b77111be347aa4a383049722"
  },
  "kernelspec": {
   "display_name": "Python 3.8.11 ('env_py')",
   "language": "python",
   "name": "python3"
  },
  "language_info": {
   "codemirror_mode": {
    "name": "ipython",
    "version": 3
   },
   "file_extension": ".py",
   "mimetype": "text/x-python",
   "name": "python",
   "nbconvert_exporter": "python",
   "pygments_lexer": "ipython3",
   "version": "3.8.11"
  },
  "orig_nbformat": 4
 },
 "nbformat": 4,
 "nbformat_minor": 2
}
