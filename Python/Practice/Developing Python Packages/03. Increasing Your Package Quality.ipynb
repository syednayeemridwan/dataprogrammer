{
 "cells": [
  {
   "cell_type": "markdown",
   "metadata": {},
   "source": [
    "- Create a new directory in the top level of impyrial called tests. You can do this from the terminal using mkdir, or using the IDE menus.\n",
    "- Add an empty test module inside tests for the impyrial/length/core.py module. Remember to use the naming convention described in the video.\n",
    "- Inside the new test module, import the inches_to_feet() and the inches_to_yards() functions from impyrial/length/core.py using an absolute import."
   ]
  },
  {
   "cell_type": "code",
   "execution_count": 2,
   "metadata": {},
   "outputs": [],
   "source": [
    "# from impyrial.length.core import inches_to_feet, inches_to_yards # Inside test file .py"
   ]
  },
  {
   "cell_type": "markdown",
   "metadata": {},
   "source": [
    "- Define a function which takes no arguments to test the inches_to_feet() function.\n",
    "- Inside the test function, check that 12 inches is converted to 1.0 feet.\n",
    "- Check that 2.5 feet is converted to 30.0 inches when using option reverse=True in inches_to_feet()."
   ]
  },
  {
   "cell_type": "code",
   "execution_count": 3,
   "metadata": {},
   "outputs": [],
   "source": [
    "# from impyrial.length.core import inches_to_feet, inches_to_yards\n",
    "\n",
    "# # Define tests for inches_to_feet function\n",
    "# def test_inches_to_feet():\n",
    "# \t# Check that 12 inches is converted to 1.0 foot\n",
    "#     assert inches_to_feet(12) == 1.0 \n",
    "#     # Check that 2.5 feet is converted to 30.0 inches\n",
    "#     assert inches_to_feet(2.5, reverse=True) == 30.0\n"
   ]
  },
  {
   "cell_type": "markdown",
   "metadata": {},
   "source": [
    "- Run pytest from the terminal to run all the package tests. You should see a test failure.\n",
    "- Try to work out where the failure is coming from. (Remember that the error you corrected in Chapter 2 came from a wrong global variable.)\n",
    "- Rerun pytest. All the tests should run successfully."
   ]
  },
  {
   "cell_type": "markdown",
   "metadata": {},
   "source": [
    "Check all attributes related to inches_to_feet and the function itself since that test is failed\n",
    "```\n",
    "tests/length/test_core.py:6: AssertionError\n",
    "======================= short test summary info ========================\n",
    "FAILED tests/length/test_core.py::test_inches_to_feet - assert 0.1 ==..\n",
    "```"
   ]
  },
  {
   "cell_type": "markdown",
   "metadata": {},
   "source": [
    "- Edit the tox.ini file to test Python versions 2.7 and 3.6.\n",
    "- Add pytest as a dependency of the test environment.\n",
    "- Edit the file so tox runs pytest."
   ]
  },
  {
   "cell_type": "code",
   "execution_count": 4,
   "metadata": {},
   "outputs": [],
   "source": [
    "# # Inside tox.ini\n",
    "# [tox]\n",
    "# envlist = py27, py36\n",
    "\n",
    "# [testenv]\n",
    "# deps = pytest\n",
    "\n",
    "# commands = pytest\n"
   ]
  },
  {
   "cell_type": "markdown",
   "metadata": {},
   "source": [
    "- Run tox from the terminal.\n",
    "- In setup.py, update the required Python version based on the tox results. Remember to remove the #.\n",
    "\n",
    "Update the tox.ini with this report `ERROR:   py27: commands failed`"
   ]
  },
  {
   "cell_type": "code",
   "execution_count": 5,
   "metadata": {},
   "outputs": [],
   "source": [
    "# [tox]\n",
    "# envlist = py36\n",
    "\n",
    "# [testenv]\n",
    "# deps = \n",
    "# \tpytest\n",
    "# commands =\n",
    "# \tpytest\n",
    "    \n"
   ]
  },
  {
   "cell_type": "markdown",
   "metadata": {},
   "source": [
    "Update the setup according to tox report:"
   ]
  },
  {
   "cell_type": "code",
   "execution_count": 8,
   "metadata": {},
   "outputs": [],
   "source": [
    "# from setuptools import setup, find_packages\n",
    "\n",
    "# # Add install requirements\n",
    "# setup(\n",
    "#     author=\"<your-name>\",\n",
    "#     description=\"A package for converting imperial lengths and weights.\",\n",
    "#     name=\"impyrial\",\n",
    "#     packages=find_packages(include=[\"impyrial\", \"impyrial.*\"]),\n",
    "#     version=\"0.1.0\",\n",
    "#     install_requires=['numpy>=1.10', 'pandas'],\n",
    "#     python_requires=\"==3.6.*\",\n",
    "# )\n"
   ]
  },
  {
   "cell_type": "markdown",
   "metadata": {},
   "source": [
    "You are coding a one-line equation in one file within your package. This file is called calculation.py. You'd like to add extra white spaces to make the equation easier to read, but this will cause flake8 to report an E222 violation. What is the most appropriate way to filter out this warning?\n",
    "- Add # noqa : E222 to the line of the equation."
   ]
  },
  {
   "cell_type": "markdown",
   "metadata": {},
   "source": [
    "- Using the terminal, run flake8 on the absolute.py module.\n",
    "- Use the feedback from flake8 to bring the code into line with PEP8."
   ]
  },
  {
   "cell_type": "code",
   "execution_count": 9,
   "metadata": {},
   "outputs": [],
   "source": [
    "# flake8"
   ]
  },
  {
   "cell_type": "code",
   "execution_count": 10,
   "metadata": {},
   "outputs": [],
   "source": [
    "\"\"\"Main module.\"\"\"\n",
    "\n",
    "def absolute_value(num):\n",
    "    \"\"\"Return the absolute value of the number\"\"\"\n",
    "    if num>=0: return num\n",
    "    else:\n",
    "    \treturn -num\n"
   ]
  },
  {
   "cell_type": "markdown",
   "metadata": {},
   "source": [
    "flake8 report:\n",
    "```\n",
    "./absolute.py:3:1: E302 expected 2 blank lines, found 1\n",
    "./absolute.py:5:11: E225 missing whitespace around operator\n",
    "./absolute.py:5:14: E701 multiple statements on one line (colon)\n",
    "./absolute.py:7:5: W191 indentation contains tabs\n",
    "./absolute.py:7:5: E101 indentation contains mixed spaces and tabs\n",
    "```"
   ]
  },
  {
   "cell_type": "code",
   "execution_count": 11,
   "metadata": {},
   "outputs": [],
   "source": [
    "\"\"\"Main module.\"\"\"\n",
    "\n",
    "\n",
    "def absolute_value(num):\n",
    "    \"\"\"Return the absolute value of the number\"\"\"\n",
    "    if num >= 0:\n",
    "        return num\n",
    "    else:\n",
    "        return -num\n"
   ]
  },
  {
   "cell_type": "markdown",
   "metadata": {},
   "source": [
    "- Using the terminal, run flake8 on the pythagoras.py module.\n",
    "- Identify the violation code caused by using the variable name l.\n",
    "- Add a noqa comment to this line to filter out this message only.\n",
    "- Run flake8 again."
   ]
  },
  {
   "cell_type": "code",
   "execution_count": 12,
   "metadata": {},
   "outputs": [],
   "source": [
    "import numpy as np\n",
    "\n",
    "\n",
    "def calculate_hypotenuse(side1, side2):\n",
    "    \"\"\"Calculate the length of the hypotenuse.\"\"\"\n",
    "    l = np.sqrt( side1**2 + side2**2 ) \n",
    "    return l\n"
   ]
  },
  {
   "cell_type": "markdown",
   "metadata": {},
   "source": [
    "After fixing these errors:\n",
    "```\n",
    "./pythagoras.py:6:5: E741 ambiguous variable name 'l'\n",
    "./pythagoras.py:6:17: E201 whitespace after '('\n",
    "./pythagoras.py:6:37: E202 whitespace before ')'\n",
    "```"
   ]
  },
  {
   "cell_type": "code",
   "execution_count": 13,
   "metadata": {},
   "outputs": [],
   "source": [
    "import numpy as np\n",
    "\n",
    "\n",
    "def calculate_hypotenuse(side1, side2):\n",
    "    \"\"\"Calculate the length of the hypotenuse.\"\"\"\n",
    "    l = np.sqrt(side1**2 + side2**2)  # noqa: E741\n",
    "    return l\n"
   ]
  },
  {
   "cell_type": "markdown",
   "metadata": {},
   "source": [
    "- Run flake8 on the whole package.\n",
    "- Modify the config to ignore unused imports (F401) violations in the impyrial/__init__.py file. Make sure to uncomment the sample lines.\n",
    "- Modify the config to ignore all violations in tests/*. Make sure to uncomment the sample lines.\n",
    "- Run flake8 again to see the difference."
   ]
  },
  {
   "cell_type": "code",
   "execution_count": 14,
   "metadata": {},
   "outputs": [],
   "source": [
    "# [flake8]\n",
    "\n",
    "# # Ignore F401 violations in the main __init__.py file\n",
    "# per-file-ignores =\n",
    "#     impyrial/__init__.py : F401\n",
    "        \n",
    "# # Ignore all violations in the tests directoory\n",
    "# exclude = tests/*\n"
   ]
  },
  {
   "cell_type": "code",
   "execution_count": 16,
   "metadata": {},
   "outputs": [],
   "source": [
    "# [flake8]\n",
    "\n",
    "# # Ignore F401 violations in the main __init__.py file\n",
    "# per-file-ignores =\n",
    "#     impyrial/__init__.py : F401\n",
    "        \n",
    "# # Ignore all violations in the tests directoory\n",
    "# exclude = tests/*\n"
   ]
  }
 ],
 "metadata": {
  "interpreter": {
   "hash": "1e949e87132dd83f1a7623eb88007e3532b03b66b77111be347aa4a383049722"
  },
  "kernelspec": {
   "display_name": "Python 3.8.11 ('env_py')",
   "language": "python",
   "name": "python3"
  },
  "language_info": {
   "codemirror_mode": {
    "name": "ipython",
    "version": 3
   },
   "file_extension": ".py",
   "mimetype": "text/x-python",
   "name": "python",
   "nbconvert_exporter": "python",
   "pygments_lexer": "ipython3",
   "version": "3.8.11"
  },
  "orig_nbformat": 4
 },
 "nbformat": 4,
 "nbformat_minor": 2
}
