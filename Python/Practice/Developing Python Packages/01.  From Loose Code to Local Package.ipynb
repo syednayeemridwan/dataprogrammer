{
 "cells": [
  {
   "cell_type": "markdown",
   "metadata": {},
   "source": [
    "- Create a new directory called textanalysis for your package. Click File > New Folder in the IDE.\n",
    "- Create __init__.py and textanalysis.py modules inside textanalysis. Click the new textanalysis folder, then click File > New File in the IDE to create new files inside it.\n",
    "- Copy the code from myscript.py into textanalysis.py.\n",
    "- Modify textanalysis.py to create the function count_words(filepath, words_list) which opens the text file filepath, and returns the number of times the words in words_list appear."
   ]
  },
  {
   "cell_type": "code",
   "execution_count": 3,
   "metadata": {},
   "outputs": [
    {
     "name": "stdout",
     "output_type": "stream",
     "text": [
      "Lewis Carroll uses the word \"cat\" 27 times\n"
     ]
    }
   ],
   "source": [
    "# Open the text file\n",
    "with open('alice.txt') as file:\n",
    "    text = file.read()\n",
    "\n",
    "n = 0\n",
    "for word in text.split():\n",
    "    # Count the number of times the words in the list appear\n",
    "    if word.lower() in ['cat', 'cats']:\n",
    "        n += 1\n",
    "\n",
    "print('Lewis Carroll uses the word \"cat\" {} times'.format(n))\n",
    "\n",
    "\n",
    "def count_words(filepath, words_list):\n",
    "    with open(filepath) as file:\n",
    "        text = file.read()\n",
    "    n = 0\n",
    "    for word in text.split():\n",
    "        # Count the number of times the words in the list appear\n",
    "        if word.lower() in words_list:\n",
    "            n += 1\n",
    "    return n"
   ]
  },
  {
   "cell_type": "markdown",
   "metadata": {},
   "source": [
    "- Use your new package to count the number of times the positive words 'good' or 'great' appear in the file 'hotel-reviews.txt'.\n",
    "- Use the package to count the number of times the negative words 'bad' or 'awful' appear."
   ]
  },
  {
   "cell_type": "code",
   "execution_count": 6,
   "metadata": {},
   "outputs": [
    {
     "name": "stdout",
     "output_type": "stream",
     "text": [
      "17 positive words.\n",
      "2 negative words.\n"
     ]
    }
   ],
   "source": [
    "\n",
    "from textanalysis.textanalysis import count_words\n",
    "\n",
    "# Count the number of positive words\n",
    "nb_positive_words = count_words('alice.txt', ['good' , 'great'])\n",
    "\n",
    "# Count the number of negative words\n",
    "nb_negative_words = count_words('alice.txt', ['bad' , 'awful'])\n",
    "\n",
    "print(\"{} positive words.\".format(nb_positive_words))\n",
    "print(\"{} negative words.\".format(nb_negative_words))\n"
   ]
  },
  {
   "cell_type": "markdown",
   "metadata": {},
   "source": [
    "- In the terminal at the bottom of the screen, use pyment to create NumPy style documentation for the file impyrial/length/core.py."
   ]
  },
  {
   "cell_type": "code",
   "execution_count": 7,
   "metadata": {},
   "outputs": [],
   "source": [
    "# pyment -w -o numpydoc impyrial/length/core.py"
   ]
  },
  {
   "cell_type": "markdown",
   "metadata": {},
   "source": [
    "- In the text editor, complete the documentation for the inches_to_feet() function. The short description for this function should read \"Convert lengths between inches and feet.\"\n",
    "- Complete the x parameter documentation with type numpy.ndarray and description \"Lengths in feet.\"\n",
    "- Complete the reverse parameter documentation with type bool, optional and the description \"If true this function converts from feet to inches instead of the default behavior of inches to feet. (Default value = False)\".\n",
    "- Set the return type to numpy.ndarray."
   ]
  },
  {
   "cell_type": "code",
   "execution_count": 8,
   "metadata": {},
   "outputs": [],
   "source": [
    "INCHES_PER_FOOT = 12.0  # 12 inches in a foot\n",
    "INCHES_PER_YARD = INCHES_PER_FOOT * 3.0  # 3 feet in a yard\n",
    "\n",
    "UNITS = (\"in\", \"ft\", \"yd\")\n",
    "\n",
    "\n",
    "def inches_to_feet(x, reverse=False):\n",
    "    \"\"\"\n",
    "    inches_to_feet(x, reverse=False)\n",
    "    Convert lengths between inches and feet.\n",
    "\n",
    "    Parameters\n",
    "    ----------\n",
    "    x : numpy.ndarray\n",
    "        Lengths in feet.\n",
    "\n",
    "    reverse : bool, optional\n",
    "        If true this function converts from feet to inches instead of the default behavior of inches to feet. \n",
    "        (Default value = False)\n",
    "\n",
    "    Returns\n",
    "    -------\n",
    "    numpy.ndarray\n",
    "    \"\"\"\n",
    "    if reverse:\n",
    "        return x * INCHES_PER_FOOT\n",
    "    else:\n",
    "        return x / INCHES_PER_FOOT\n"
   ]
  },
  {
   "cell_type": "markdown",
   "metadata": {},
   "source": [
    "Add the following package level documentation to impyrial:\n",
    "```\n",
    "impyrial\n",
    "========\n",
    "A package for converting between imperial \n",
    "measurements of length and weight.\n",
    "```\n",
    "\n",
    "Add the following subpackage level documentation to impyrial.length:\n",
    "\n",
    "```\n",
    "impyrial.length\n",
    "===============\n",
    "Length conversion between imperial units.\n",
    "```\n",
    "\n",
    "Add the following module documentation to impyrial.length.core:\n",
    "\n",
    "```\n",
    "Conversions between inches and \n",
    "larger imperial length units\n",
    "```"
   ]
  },
  {
   "cell_type": "code",
   "execution_count": 9,
   "metadata": {},
   "outputs": [],
   "source": [
    "# pyment -w -o numpydoc impyrial/__init__.py\n",
    "# pyment -w -o numpydoc impyrial/length/__init__.py\n",
    "\n"
   ]
  },
  {
   "cell_type": "markdown",
   "metadata": {},
   "source": [
    "- Import the functions inches_to_feet() and inches_to_yards(), and the variable UNITS from the impyrial/length/core.py module into impyrial/length/api.py. Use an absolute import.\n",
    "- Import the function convert_unit() function in impyrial/length/api.py into the example_script.py script. You'll need to import this using the full filepath to the api module.\n",
    "- Run the example script to check your imports work."
   ]
  },
  {
   "cell_type": "markdown",
   "metadata": {},
   "source": [
    "Inside api.py"
   ]
  },
  {
   "cell_type": "code",
   "execution_count": 12,
   "metadata": {},
   "outputs": [
    {
     "ename": "ModuleNotFoundError",
     "evalue": "No module named 'impyrial'",
     "output_type": "error",
     "traceback": [
      "\u001b[1;31m---------------------------------------------------------------------------\u001b[0m",
      "\u001b[1;31mModuleNotFoundError\u001b[0m                       Traceback (most recent call last)",
      "\u001b[1;32m~\\AppData\\Local\\Temp/ipykernel_2984/228356351.py\u001b[0m in \u001b[0;36m<module>\u001b[1;34m\u001b[0m\n\u001b[0;32m      1\u001b[0m \u001b[1;34m\"\"\"User-facing functions.\"\"\"\u001b[0m\u001b[1;33m\u001b[0m\u001b[1;33m\u001b[0m\u001b[0m\n\u001b[1;32m----> 2\u001b[1;33m from impyrial.length.core import (\n\u001b[0m\u001b[0;32m      3\u001b[0m     \u001b[0mUNITS\u001b[0m\u001b[1;33m,\u001b[0m\u001b[1;33m\u001b[0m\u001b[1;33m\u001b[0m\u001b[0m\n\u001b[0;32m      4\u001b[0m     \u001b[0minches_to_feet\u001b[0m\u001b[1;33m,\u001b[0m\u001b[1;33m\u001b[0m\u001b[1;33m\u001b[0m\u001b[0m\n\u001b[0;32m      5\u001b[0m     \u001b[0minches_to_yards\u001b[0m\u001b[1;33m\u001b[0m\u001b[1;33m\u001b[0m\u001b[0m\n",
      "\u001b[1;31mModuleNotFoundError\u001b[0m: No module named 'impyrial'"
     ]
    }
   ],
   "source": [
    "\"\"\"User-facing functions.\"\"\"\n",
    "from impyrial.length.core import (\n",
    "    UNITS,\n",
    "    inches_to_feet,\n",
    "    inches_to_yards\n",
    ")\n",
    "\n",
    "\n",
    "def convert_unit(x, from_unit, to_unit):\n",
    "    \"\"\"Convert from one length unit to another.\n",
    "\n",
    "    Parameters\n",
    "    ----------\n",
    "    x : array_like\n",
    "        Lengths to convert.\n",
    "    from_unit : {'in', 'ft', 'yd'}\n",
    "        Unit of the input lengths `x`\n",
    "    to_unit : {'in', 'ft', 'yd'}\n",
    "        Unit of the returned lengths\n",
    "\n",
    "    Returns\n",
    "    -------\n",
    "    ndarray\n",
    "        An array of converted lengths with the same shape as `x`. If `x` is a\n",
    "        0-d array, then a scalar is returned.\n",
    "    \"\"\"\n",
    "    # Convert length to inches\n",
    "    if from_unit == \"in\":\n",
    "        inches = x\n",
    "    elif from_unit == \"ft\":\n",
    "        inches = inches_to_feet(x, reverse=True)\n",
    "    elif from_unit == \"yd\":\n",
    "        inches = inches_to_yards(x, reverse=True)\n",
    "\n",
    "    # Convert inches to desired units\n",
    "    if to_unit == \"in\":\n",
    "        value = inches\n",
    "    elif to_unit == \"ft\":\n",
    "        value = inches_to_feet(inches)\n",
    "    elif to_unit == \"yd\":\n",
    "        value = inches_to_yards(inches)\n",
    "\n",
    "    return value\n"
   ]
  },
  {
   "cell_type": "markdown",
   "metadata": {},
   "source": [
    "Inside example_script.py"
   ]
  },
  {
   "cell_type": "code",
   "execution_count": 11,
   "metadata": {},
   "outputs": [
    {
     "ename": "SyntaxError",
     "evalue": "invalid syntax (Temp/ipykernel_2984/2834371808.py, line 1)",
     "output_type": "error",
     "traceback": [
      "\u001b[1;36m  File \u001b[1;32m\"C:\\Users\\88016\\AppData\\Local\\Temp/ipykernel_2984/2834371808.py\"\u001b[1;36m, line \u001b[1;32m1\u001b[0m\n\u001b[1;33m    from impyrial/length/api import convert_unit\u001b[0m\n\u001b[1;37m                 ^\u001b[0m\n\u001b[1;31mSyntaxError\u001b[0m\u001b[1;31m:\u001b[0m invalid syntax\n"
     ]
    }
   ],
   "source": [
    "from impyrial.length.api import convert_unit\n",
    "\n",
    "result = convert_unit(10, 'in', 'yd')\n",
    "print(result)\n"
   ]
  },
  {
   "cell_type": "markdown",
   "metadata": {},
   "source": [
    "- Import the function check_units() from the impyrial/utils.py module into impyrial/length/api.py. Use an absolute import.\n",
    "- Run example_script.py to make sure the check_units() function is working."
   ]
  },
  {
   "cell_type": "code",
   "execution_count": 13,
   "metadata": {},
   "outputs": [
    {
     "ename": "ModuleNotFoundError",
     "evalue": "No module named 'impyrial'",
     "output_type": "error",
     "traceback": [
      "\u001b[1;31m---------------------------------------------------------------------------\u001b[0m",
      "\u001b[1;31mModuleNotFoundError\u001b[0m                       Traceback (most recent call last)",
      "\u001b[1;32m~\\AppData\\Local\\Temp/ipykernel_2984/1395930106.py\u001b[0m in \u001b[0;36m<module>\u001b[1;34m\u001b[0m\n\u001b[0;32m      1\u001b[0m \u001b[1;34m\"\"\"User-facing functions.\"\"\"\u001b[0m\u001b[1;33m\u001b[0m\u001b[1;33m\u001b[0m\u001b[0m\n\u001b[0;32m      2\u001b[0m \u001b[1;31m# Import the check_units function\u001b[0m\u001b[1;33m\u001b[0m\u001b[1;33m\u001b[0m\u001b[1;33m\u001b[0m\u001b[0m\n\u001b[1;32m----> 3\u001b[1;33m \u001b[1;32mfrom\u001b[0m \u001b[0mimpyrial\u001b[0m\u001b[1;33m.\u001b[0m\u001b[0mutils\u001b[0m \u001b[1;32mimport\u001b[0m \u001b[0mcheck_units\u001b[0m\u001b[1;33m\u001b[0m\u001b[1;33m\u001b[0m\u001b[0m\n\u001b[0m\u001b[0;32m      4\u001b[0m from impyrial.length.core import (\n\u001b[0;32m      5\u001b[0m     \u001b[0mUNITS\u001b[0m\u001b[1;33m,\u001b[0m\u001b[1;33m\u001b[0m\u001b[1;33m\u001b[0m\u001b[0m\n",
      "\u001b[1;31mModuleNotFoundError\u001b[0m: No module named 'impyrial'"
     ]
    }
   ],
   "source": [
    "\"\"\"User-facing functions.\"\"\"\n",
    "# Import the check_units function\n",
    "from impyrial.utils import check_units\n",
    "from impyrial.length.core import (\n",
    "    UNITS,\n",
    "    inches_to_feet,\n",
    "    inches_to_yards,\n",
    ")\n",
    "\n",
    "\n",
    "def convert_unit(x, from_unit, to_unit):\n",
    "    \"\"\"Convert from one length unit to another.\n",
    "\n",
    "    Parameters\n",
    "    ----------\n",
    "    x : array_like\n",
    "        Lengths to convert.\n",
    "    from_unit : {'in', 'ft', 'yd'}\n",
    "        Unit of the input lengths `x`\n",
    "    to_unit : {'in', 'ft', 'yd'}\n",
    "        Unit of the returned lengths\n",
    "\n",
    "    Returns\n",
    "    -------\n",
    "    ndarray\n",
    "        An array of converted lengths with the same shape as `x`. If `x` is a\n",
    "        0-d array, then a scalar is returned.\n",
    "    \"\"\"\n",
    "    # Check if units are valid length units\n",
    "    check_units(from_unit, to_unit, UNITS)\n",
    "    \n",
    "    # convert length to inches\n",
    "    if from_unit == \"in\":\n",
    "        inches = x\n",
    "    elif from_unit == \"ft\":\n",
    "        inches = inches_to_feet(x, reverse=True)\n",
    "    elif from_unit == \"yd\":\n",
    "        inches = inches_to_yards(x, reverse=True)\n",
    "\n",
    "    # Convert inches to desired units\n",
    "    if to_unit == \"in\":\n",
    "        value = inches\n",
    "    elif to_unit == \"ft\":\n",
    "        value = inches_to_feet(inches)\n",
    "    elif to_unit == \"yd\":\n",
    "        value = inches_to_yards(inches)\n",
    "\n",
    "    return value\n"
   ]
  },
  {
   "cell_type": "markdown",
   "metadata": {},
   "source": [
    "- In the __init__.py file within impyrial/length, import the convert_unit() function from the api.py module. Use a relative import.\n",
    "- Navigate to the __init__.py file in the top level of the impyrial package and import the length subpackage. Use a relative import.\n",
    "- Run example_script.py to verify that the package imports are correct."
   ]
  },
  {
   "cell_type": "markdown",
   "metadata": {},
   "source": [
    "Inside top level __init__.py"
   ]
  },
  {
   "cell_type": "code",
   "execution_count": 15,
   "metadata": {},
   "outputs": [
    {
     "ename": "ImportError",
     "evalue": "attempted relative import with no known parent package",
     "output_type": "error",
     "traceback": [
      "\u001b[1;31m---------------------------------------------------------------------------\u001b[0m",
      "\u001b[1;31mImportError\u001b[0m                               Traceback (most recent call last)",
      "\u001b[1;32m~\\AppData\\Local\\Temp/ipykernel_2984/1695235243.py\u001b[0m in \u001b[0;36m<module>\u001b[1;34m\u001b[0m\n\u001b[0;32m      2\u001b[0m \u001b[1;33m\u001b[0m\u001b[0m\n\u001b[0;32m      3\u001b[0m \u001b[1;31m# Import the length subpackage\u001b[0m\u001b[1;33m\u001b[0m\u001b[1;33m\u001b[0m\u001b[1;33m\u001b[0m\u001b[0m\n\u001b[1;32m----> 4\u001b[1;33m \u001b[1;32mfrom\u001b[0m \u001b[1;33m.\u001b[0m \u001b[1;32mimport\u001b[0m \u001b[0mlength\u001b[0m\u001b[1;33m\u001b[0m\u001b[1;33m\u001b[0m\u001b[0m\n\u001b[0m",
      "\u001b[1;31mImportError\u001b[0m: attempted relative import with no known parent package"
     ]
    }
   ],
   "source": [
    "# This is the top level __init__.py file\n",
    "\n",
    "# Import the length subpackage\n",
    "from . import length\n"
   ]
  },
  {
   "cell_type": "markdown",
   "metadata": {},
   "source": [
    "Inside sibling module"
   ]
  },
  {
   "cell_type": "code",
   "execution_count": 17,
   "metadata": {},
   "outputs": [
    {
     "ename": "ImportError",
     "evalue": "attempted relative import with no known parent package",
     "output_type": "error",
     "traceback": [
      "\u001b[1;31m---------------------------------------------------------------------------\u001b[0m",
      "\u001b[1;31mImportError\u001b[0m                               Traceback (most recent call last)",
      "\u001b[1;32m~\\AppData\\Local\\Temp/ipykernel_2984/2619130393.py\u001b[0m in \u001b[0;36m<module>\u001b[1;34m\u001b[0m\n\u001b[0;32m      2\u001b[0m \u001b[1;33m\u001b[0m\u001b[0m\n\u001b[0;32m      3\u001b[0m \u001b[1;31m# Import the convert_unit function from the api.py module\u001b[0m\u001b[1;33m\u001b[0m\u001b[1;33m\u001b[0m\u001b[1;33m\u001b[0m\u001b[0m\n\u001b[1;32m----> 4\u001b[1;33m \u001b[1;32mfrom\u001b[0m \u001b[1;33m.\u001b[0m\u001b[0mapi\u001b[0m \u001b[1;32mimport\u001b[0m \u001b[0mconvert_unit\u001b[0m\u001b[1;33m\u001b[0m\u001b[1;33m\u001b[0m\u001b[0m\n\u001b[0m",
      "\u001b[1;31mImportError\u001b[0m: attempted relative import with no known parent package"
     ]
    }
   ],
   "source": [
    "# This is the __init__.py file for the impyrial/length subpackage\n",
    "\n",
    "# Import the convert_unit function from the api.py module\n",
    "from .api import convert_unit\n"
   ]
  }
 ],
 "metadata": {
  "interpreter": {
   "hash": "1e949e87132dd83f1a7623eb88007e3532b03b66b77111be347aa4a383049722"
  },
  "kernelspec": {
   "display_name": "Python 3.8.11 ('env_py')",
   "language": "python",
   "name": "python3"
  },
  "language_info": {
   "codemirror_mode": {
    "name": "ipython",
    "version": 3
   },
   "file_extension": ".py",
   "mimetype": "text/x-python",
   "name": "python",
   "nbconvert_exporter": "python",
   "pygments_lexer": "ipython3",
   "version": "3.8.11"
  },
  "orig_nbformat": 4
 },
 "nbformat": 4,
 "nbformat_minor": 2
}
