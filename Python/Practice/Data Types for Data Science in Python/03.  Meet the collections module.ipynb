{
 "cells": [
  {
   "cell_type": "markdown",
   "metadata": {},
   "source": [
    "- Import the Counter object from collections.\n",
    "- Print the first ten items from the stations list.\n",
    "- Create a Counter of the stations list called station_count.\n",
    "- Print the station_count."
   ]
  },
  {
   "cell_type": "code",
   "execution_count": 1,
   "metadata": {},
   "outputs": [
    {
     "name": "stdout",
     "output_type": "stream",
     "text": [
      "['stationname', 'Austin-Forest Park', 'Austin-Forest Park', 'Austin-Forest Park', 'Austin-Forest Park', 'Austin-Forest Park', 'Austin-Forest Park', 'Austin-Forest Park', 'Austin-Forest Park', 'Austin-Forest Park']\n",
      "Counter({'Austin-Forest Park': 9, 'stationname': 1})\n"
     ]
    }
   ],
   "source": [
    "stations = ['stationname', 'Austin-Forest Park', 'Austin-Forest Park', 'Austin-Forest Park', 'Austin-Forest Park', 'Austin-Forest Park', 'Austin-Forest Park', 'Austin-Forest Park', 'Austin-Forest Park', 'Austin-Forest Park']\n",
    "\n",
    "# Import the Counter object\n",
    "from collections import Counter\n",
    "\n",
    "# Print the first ten items from the stations list\n",
    "print(stations[:10])\n",
    "\n",
    "# Create a Counter of the stations list: station_count\n",
    "station_count = Counter(stations)\n",
    "\n",
    "# Print the station_count\n",
    "print(station_count)"
   ]
  },
  {
   "cell_type": "markdown",
   "metadata": {},
   "source": [
    "- Import the Counter object from collections.\n",
    "- Create a Counter of the stations list called station_count.\n",
    "- Print the 5 most common elements."
   ]
  },
  {
   "cell_type": "code",
   "execution_count": 2,
   "metadata": {},
   "outputs": [
    {
     "name": "stdout",
     "output_type": "stream",
     "text": [
      "[('Austin-Forest Park', 9), ('stationname', 1)]\n"
     ]
    }
   ],
   "source": [
    "# Import the Counter object\n",
    "from collections import Counter\n",
    "\n",
    "# Create a Counter of the stations list: station_count\n",
    "station_count = Counter(stations)\n",
    "\n",
    "# Find the 5 most common elements\n",
    "print(station_count.most_common(5))"
   ]
  },
  {
   "cell_type": "markdown",
   "metadata": {},
   "source": [
    "- Create an empty dictionary called ridership.\n",
    "- Iterate over entries, unpacking it into the variables date, stop, and riders.\n",
    "- Check to see if the date already exists in the ridership dictionary. If it does not exist, create an empty list for the date key.\n",
    "- Append a tuple consisting of stop and riders to the date key of the ridership dictionary.\n",
    "- Print the ridership for '03/09/2016'."
   ]
  },
  {
   "cell_type": "code",
   "execution_count": 4,
   "metadata": {},
   "outputs": [
    {
     "name": "stdout",
     "output_type": "stream",
     "text": [
      "[('Chicago/Franklin', '2883')]\n"
     ]
    }
   ],
   "source": [
    "entries = [('11/17/2016', 'Dempster-Skokie', '2048'),\n",
    " ('02/19/2016', 'Adams/Wabash', '8447'),\n",
    " ('03/25/2015', 'State/Lake', '10325'),\n",
    " ('05/02/2015', 'Ashland-Lake', '1424'),\n",
    " ('07/11/2015', 'Chicago/Franklin', '2883')]\n",
    "# Create an empty dictionary: ridership\n",
    "ridership = { }\n",
    "\n",
    "# Iterate over the entries\n",
    "for date, stop,  riders in entries:\n",
    "    # Check to see if date is already in the ridership dictionary\n",
    "    if date not in ridership:\n",
    "        # Create an empty list for any missing date\n",
    "        ridership[date] = [ ]\n",
    "    # Append the stop and riders as a tuple to the date keys list\n",
    "    ridership[date].append((stop,  riders))\n",
    "    \n",
    "# Print the ridership for '03/09/2016'\n",
    "print(ridership['07/11/2015'])"
   ]
  },
  {
   "cell_type": "markdown",
   "metadata": {},
   "source": [
    "- Import defaultdict from collections.\n",
    "- Create a defaultdict with a default type of list called ridership.\n",
    "- Iterate over the list entries, unpacking it into the variables date, stop, and riders, exactly as you did in the previous exercise.\n",
    "- Use stop as the key of the ridership dictionary and append riders to its value.\n",
    "- Print the first 10 items of the ridership dictionary. You can use the .items() method for this. Remember, you have to convert ridership.items() to a list before slicing."
   ]
  },
  {
   "cell_type": "code",
   "execution_count": 5,
   "metadata": {},
   "outputs": [
    {
     "name": "stdout",
     "output_type": "stream",
     "text": [
      "[('Dempster-Skokie', ['2048']), ('Adams/Wabash', ['8447']), ('State/Lake', ['10325']), ('Ashland-Lake', ['1424']), ('Chicago/Franklin', ['2883'])]\n"
     ]
    }
   ],
   "source": [
    "# Import defaultdict\n",
    "from collections import defaultdict\n",
    "\n",
    "# Create a defaultdict with a default type of list: ridership\n",
    "ridership = defaultdict(list)\n",
    "\n",
    "# Iterate over the entries\n",
    "for date, stop,  riders in entries:\n",
    "    # Use the stop as the key of ridership and append the riders to its value\n",
    "    ridership[stop].append(riders)\n",
    "    \n",
    "# Print the first 10 items of the ridership dictionary\n",
    "print(list(ridership.items())[:10])"
   ]
  },
  {
   "cell_type": "markdown",
   "metadata": {},
   "source": [
    "- Import OrderedDict from collections.\n",
    "- Create an OrderedDict called ridership_date.\n",
    "- Iterate over the list entries, unpacking it into date and riders.\n",
    "- If a key does not exist in ridership_date for the date, set it equal to 0 (if only you could use defaultdict here!)\n",
    "- Add riders to the date key of ridership_date.\n",
    "- Print the first 31 records. Remember to convert the items into a list."
   ]
  },
  {
   "cell_type": "code",
   "execution_count": 7,
   "metadata": {},
   "outputs": [
    {
     "name": "stdout",
     "output_type": "stream",
     "text": [
      "[('01/01/2015', 587), ('01/02/2015', 1386), ('01/03/2015', 785), ('01/04/2015', 625)]\n"
     ]
    }
   ],
   "source": [
    "entries = [('01/01/2015', 587),\n",
    " ('01/02/2015', 1386),\n",
    " ('01/03/2015', 785),\n",
    " ('01/04/2015', 625)]\n",
    "\n",
    "# Import OrderedDict from collections\n",
    "from collections import OrderedDict\n",
    "\n",
    "# Create an OrderedDict called: ridership_date\n",
    "ridership_date = OrderedDict()\n",
    "\n",
    "# Iterate over the entries\n",
    "for date , riders in entries:\n",
    "    # If a key does not exist in ridership_date, set it to 0\n",
    "    if  date not in ridership_date:\n",
    "        ridership_date[date] = 0\n",
    "        \n",
    "    # Add riders to the date key in ridership_date\n",
    "    ridership_date[date] += riders\n",
    "    \n",
    "# Print the first 31 records\n",
    "print(list(ridership_date.items())[:31])"
   ]
  },
  {
   "cell_type": "markdown",
   "metadata": {},
   "source": [
    "- Print the first key in ridership_date (Remember to make keys a list before slicing).\n",
    "- Pop the first item from ridership_date and print it.\n",
    "- Print the last key in ridership_date.\n",
    "- Pop the last item from ridership_date and print it."
   ]
  },
  {
   "cell_type": "code",
   "execution_count": 8,
   "metadata": {},
   "outputs": [
    {
     "name": "stdout",
     "output_type": "stream",
     "text": [
      "01/01/2015\n",
      "('01/01/2015', 587)\n",
      "01/04/2015\n",
      "('01/04/2015', 625)\n"
     ]
    }
   ],
   "source": [
    "# Print the first key in ridership_date\n",
    "print(list(ridership_date.items())[0][0])\n",
    "\n",
    "# Pop the first item from ridership_date and print it\n",
    "print(ridership_date.popitem(last = False))\n",
    "\n",
    "# Print the last key in ridership_date\n",
    "print(list(ridership_date.items())[-1][0])\n",
    "\n",
    "# Pop the last item from ridership_date and print it\n",
    "print(ridership_date.popitem())"
   ]
  },
  {
   "cell_type": "markdown",
   "metadata": {},
   "source": [
    "- Import namedtuple from collections.\n",
    "- Create a namedtuple called DateDetails with a type name of DateDetails and fields of 'date', 'stop', and 'riders'.\n",
    "- Create a list called labeled_entries.\n",
    "- Iterate over the entries list, unpacking it into date, stop, and riders.\n",
    "- Create a new DateDetails namedtuple instance for each entry and append it to labeled_entries.\n",
    "- Print the first 5 items in labeled_entries. This has been done for you, so hit 'Submit Answer' to see the result!"
   ]
  },
  {
   "cell_type": "code",
   "execution_count": 10,
   "metadata": {},
   "outputs": [
    {
     "name": "stdout",
     "output_type": "stream",
     "text": [
      "[DateDetails(date='11/17/2016', stop='Dempster-Skokie', riders='2048'), DateDetails(date='02/19/2016', stop='Adams/Wabash', riders='8447'), DateDetails(date='03/25/2015', stop='State/Lake', riders='10325'), DateDetails(date='05/02/2015', stop='Ashland-Lake', riders='1424'), DateDetails(date='07/11/2015', stop='Chicago/Franklin', riders='2883')]\n"
     ]
    }
   ],
   "source": [
    "entries = [('11/17/2016', 'Dempster-Skokie', '2048'),\n",
    " ('02/19/2016', 'Adams/Wabash', '8447'),\n",
    " ('03/25/2015', 'State/Lake', '10325'),\n",
    " ('05/02/2015', 'Ashland-Lake', '1424'),\n",
    " ('07/11/2015', 'Chicago/Franklin', '2883')]\n",
    "\n",
    "# Import namedtuple from collections\n",
    "from collections import namedtuple\n",
    "\n",
    "# Create the namedtuple: DateDetails\n",
    "DateDetails = namedtuple('DateDetails', ['date', 'stop', 'riders'])\n",
    "\n",
    "# Create the empty list: labeled_entries\n",
    "labeled_entries = []\n",
    "\n",
    "# Iterate over the entries list\n",
    "for date, stop, riders in entries:\n",
    "    # Append a new DateDetails namedtuple instance for each entry to labeled_entries\n",
    "    labeled_entries.append(DateDetails(date, stop, riders))\n",
    "    \n",
    "# Print the first 5 items in labeled_entries\n",
    "print(labeled_entries[:5])"
   ]
  },
  {
   "cell_type": "markdown",
   "metadata": {},
   "source": [
    "- Iterate over the first twenty items in the labeled_entries list:\n",
    "- Print each item's stop.\n",
    "- Print each item's date.\n",
    "- Print each item's riders."
   ]
  },
  {
   "cell_type": "code",
   "execution_count": 11,
   "metadata": {},
   "outputs": [
    {
     "name": "stdout",
     "output_type": "stream",
     "text": [
      "Dempster-Skokie\n",
      "11/17/2016\n",
      "2048\n",
      "Adams/Wabash\n",
      "02/19/2016\n",
      "8447\n",
      "State/Lake\n",
      "03/25/2015\n",
      "10325\n",
      "Ashland-Lake\n",
      "05/02/2015\n",
      "1424\n",
      "Chicago/Franklin\n",
      "07/11/2015\n",
      "2883\n"
     ]
    }
   ],
   "source": [
    "# Iterate over the first twenty items in labeled_entries\n",
    "for item in labeled_entries:\n",
    "    # Print each item's stop\n",
    "    print(item.stop)\n",
    "\n",
    "    # Print each item's date\n",
    "    print(item.date)\n",
    "\n",
    "    # Print each item's riders\n",
    "    print(item.riders)"
   ]
  }
 ],
 "metadata": {
  "interpreter": {
   "hash": "1e949e87132dd83f1a7623eb88007e3532b03b66b77111be347aa4a383049722"
  },
  "kernelspec": {
   "display_name": "Python 3.8.11 ('env_py')",
   "language": "python",
   "name": "python3"
  },
  "language_info": {
   "codemirror_mode": {
    "name": "ipython",
    "version": 3
   },
   "file_extension": ".py",
   "mimetype": "text/x-python",
   "name": "python",
   "nbconvert_exporter": "python",
   "pygments_lexer": "ipython3",
   "version": "3.8.11"
  },
  "orig_nbformat": 4
 },
 "nbformat": 4,
 "nbformat_minor": 2
}
