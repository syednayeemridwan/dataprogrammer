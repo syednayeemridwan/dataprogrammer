{
 "cells": [
  {
   "cell_type": "markdown",
   "metadata": {},
   "source": [
    "- Create a list called baby_names with the names 'Ximena', 'Aliza', 'Ayden', and 'Calvin'.\n",
    "- Use the .extend() method on baby_names to add 'Rowen' and 'Sandeep' and print the list.\n",
    "- Use the .index() method to find the position of 'Aliza' in the list. Save the result as position.\n",
    "- Use the .pop() method with position to remove 'Aliza' from the list.\n",
    "- Print the baby_names list. This has been done for you, so hit 'Submit Answer' to see the results!"
   ]
  },
  {
   "cell_type": "code",
   "execution_count": 1,
   "metadata": {},
   "outputs": [
    {
     "name": "stdout",
     "output_type": "stream",
     "text": [
      "['Ximena', 'Aliza', 'Ayden', 'Calvin', 'Rowen', 'Sandeep']\n",
      "['Ximena', 'Ayden', 'Calvin', 'Rowen', 'Sandeep']\n"
     ]
    }
   ],
   "source": [
    "# Create a list containing the names: baby_names\n",
    "baby_names = ['Ximena', 'Aliza', 'Ayden', 'Calvin']\n",
    "\n",
    "# Extend baby_names with 'Rowen' and 'Sandeep'\n",
    "baby_names.extend(['Rowen' , 'Sandeep'])\n",
    "\n",
    "# Print baby_names\n",
    "print(baby_names)\n",
    "\n",
    "# Find the position of 'Aliza': position\n",
    "position = baby_names.index('Aliza')\n",
    "\n",
    "# Remove 'Aliza' from baby_names\n",
    "baby_names.pop(position)\n",
    "\n",
    "# Print baby_names\n",
    "print(baby_names)"
   ]
  },
  {
   "cell_type": "markdown",
   "metadata": {},
   "source": [
    "- Create an empty list called baby_names.\n",
    "- Use a for loop to iterate over each row of records appending the name, found in the fourth element of row, to baby_names.\n",
    "- Print each name in baby_names in alphabetical order. To do this:\n",
    "- Use the sorted() function as part of a for loop to iterate over the sorted names, printing each one."
   ]
  },
  {
   "cell_type": "code",
   "execution_count": 4,
   "metadata": {},
   "outputs": [
    {
     "name": "stdout",
     "output_type": "stream",
     "text": [
      "Malaysia\n",
      "Malia\n",
      "Maliyah\n"
     ]
    }
   ],
   "source": [
    "records = [\n",
    "    ['2014', 'FEMALE', 'BLACK NON HISPANIC', 'Malaysia', '14', '37'],\n",
    "['2014', 'FEMALE', 'BLACK NON HISPANIC', 'Malia', '18', '33'],\n",
    "['2014', 'FEMALE', 'BLACK NON HISPANIC', 'Maliyah', '20', '31']\n",
    "]\n",
    "# Create the empty list: baby_names\n",
    "baby_names = []\n",
    "\n",
    "# Loop over records \n",
    "for row in records:\n",
    "    # Add the name to the list\n",
    "    baby_names.append(row[3])\n",
    "    \n",
    "# Sort the names in alphabetical order\n",
    "for name in sorted(baby_names):\n",
    "    # Print each name\n",
    "    print(name)"
   ]
  },
  {
   "cell_type": "markdown",
   "metadata": {},
   "source": [
    "Which data type would you use if you wanted your data to be immutable and ordered?\n",
    "- Tuple"
   ]
  },
  {
   "cell_type": "markdown",
   "metadata": {},
   "source": [
    "- Use the zip() function to pair up girl_names and boy_names into a variable called pairs.\n",
    "- Use a for loop to loop through pairs, using enumerate() to keep track of your position. Unpack pairs into the variables idx and pair.\n",
    "- Inside the for loop:\n",
    "- Unpack pair into the variables girl_name and boy_name.\n",
    "- Print the rank, girl name, and boy name, in that order. The rank is contained in idx."
   ]
  },
  {
   "cell_type": "code",
   "execution_count": 5,
   "metadata": {},
   "outputs": [
    {
     "name": "stdout",
     "output_type": "stream",
     "text": [
      "Rank 0: OLIVIA and DAVID\n",
      "Rank 1: LONDON and JACK\n",
      "Rank 2: MIRIAM and ELIJAH\n",
      "Rank 3: SARAH and MICHAEL\n",
      "Rank 4: ELLA and CHRISTOPHER\n"
     ]
    }
   ],
   "source": [
    "girl_names = ['OLIVIA', 'LONDON', 'MIRIAM', 'SARAH', 'ELLA']\n",
    "boy_names = ['DAVID', 'JACK', 'ELIJAH', 'MICHAEL', 'CHRISTOPHER']\n",
    "# Pair up the girl and boy names: pairs\n",
    "pairs = zip(girl_names, boy_names)\n",
    "\n",
    "# Iterate over pairs\n",
    "for idx, pair in enumerate(pairs):\n",
    "    # Unpack pair: girl_name, boy_name\n",
    "    girl_name, boy_name = pair\n",
    "    # Print the rank and names associated with each rank\n",
    "    print('Rank {}: {} and {}'.format(idx, girl_name, boy_name))"
   ]
  },
  {
   "cell_type": "markdown",
   "metadata": {},
   "source": [
    "- Create a variable named normal and set it equal to 'simple'.\n",
    "- Create a variable named error and set it equal 'trailing comma',.\n",
    "- Print the type of the normal and error variables."
   ]
  },
  {
   "cell_type": "code",
   "execution_count": 6,
   "metadata": {},
   "outputs": [
    {
     "name": "stdout",
     "output_type": "stream",
     "text": [
      "<class 'str'>\n",
      "<class 'tuple'>\n"
     ]
    }
   ],
   "source": [
    "# Create the normal variable: normal\n",
    "normal = 'simple'\n",
    "\n",
    "# Create the mistaken variable: error\n",
    "error = 'trailing comma',\n",
    "\n",
    "# Print the types of the variables\n",
    "print(type(normal))\n",
    "print(type(error))"
   ]
  },
  {
   "cell_type": "markdown",
   "metadata": {},
   "source": [
    "- Combine all the names in baby_names_2011 and baby_names_2014 by computing their union. Store the result as all_names.\n",
    "- Print the number of names that occur in all_names. You can use the len() function to compute the number of names in all_names.\n",
    "- Find all the names that occur in both baby_names_2011 and baby_names_2014 by computing their intersection. Store the result as overlapping_names.\n",
    "- Print the number of names that occur in overlapping_names."
   ]
  },
  {
   "cell_type": "code",
   "execution_count": 8,
   "metadata": {},
   "outputs": [
    {
     "name": "stdout",
     "output_type": "stream",
     "text": [
      "10\n",
      "0\n"
     ]
    }
   ],
   "source": [
    "baby_names_2011 = set(['Yael', 'Michelle', 'Iris', 'Yerik', 'Sloane'])\n",
    "baby_names_2014 = set(['Arham', 'Malak', 'Summer', 'Winston', 'Delilah'])\n",
    "\n",
    "# Find the union: all_names\n",
    "all_names = baby_names_2011.union(baby_names_2014)\n",
    "\n",
    "# Print the count of names in all_names\n",
    "print(len(all_names))\n",
    "\n",
    "# Find the intersection: overlapping_names\n",
    "overlapping_names = baby_names_2011.intersection(baby_names_2014)\n",
    "\n",
    "# Print the count of names in overlapping_names\n",
    "print(len(overlapping_names))\n"
   ]
  },
  {
   "cell_type": "markdown",
   "metadata": {},
   "source": [
    "- Create an empty set called baby_names_2011. You can do this using set().\n",
    "- Use a for loop to iterate over each row in records:\n",
    "- If the first column of each row in records is '2011', add its fourth column to baby_names_2011. Remember that Python is 0-indexed!\n",
    "- Find the difference between baby_names_2011 and baby_names_2014. Store the result as differences.\n",
    "- Print the differences. This has been done for you, so hit 'Submit Answer' to see the result!"
   ]
  },
  {
   "cell_type": "code",
   "execution_count": 9,
   "metadata": {},
   "outputs": [
    {
     "name": "stdout",
     "output_type": "stream",
     "text": [
      "set()\n"
     ]
    }
   ],
   "source": [
    "# Create the empty set: baby_names_2011\n",
    "baby_names_2011 = set()\n",
    "\n",
    "# Loop over records and add the names from 2011 to the baby_names_2011 set\n",
    "for row in records:\n",
    "    # Check if the first column is '2011'\n",
    "    if row[0] == '2011':\n",
    "        # Add the fourth column to the set\n",
    "        baby_names_2011.add(row[3])\n",
    "\n",
    "# Find the difference between 2011 and 2014: differences\n",
    "differences = baby_names_2011.difference(baby_names_2014)\n",
    "\n",
    "# Print the differences\n",
    "print(differences)"
   ]
  }
 ],
 "metadata": {
  "interpreter": {
   "hash": "1e949e87132dd83f1a7623eb88007e3532b03b66b77111be347aa4a383049722"
  },
  "kernelspec": {
   "display_name": "Python 3.8.11 ('env_py')",
   "language": "python",
   "name": "python3"
  },
  "language_info": {
   "codemirror_mode": {
    "name": "ipython",
    "version": 3
   },
   "file_extension": ".py",
   "mimetype": "text/x-python",
   "name": "python",
   "nbconvert_exporter": "python",
   "pygments_lexer": "ipython3",
   "version": "3.8.11"
  },
  "orig_nbformat": 4
 },
 "nbformat": 4,
 "nbformat_minor": 2
}
