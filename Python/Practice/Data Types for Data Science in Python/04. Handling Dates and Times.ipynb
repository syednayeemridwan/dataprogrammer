{
 "cells": [
  {
   "cell_type": "markdown",
   "metadata": {},
   "source": [
    "- Import the datetime object from datetime.\n",
    "- Iterate over the dates_list, using date_str as your iterator variable.\n",
    "- Convert each date_str into a datetime object called date_dt using the datetime.strptime() function, with '%m/%d/%Y' as your format.\n",
    "- Print each date_dt."
   ]
  },
  {
   "cell_type": "code",
   "execution_count": 2,
   "metadata": {},
   "outputs": [
    {
     "name": "stdout",
     "output_type": "stream",
     "text": [
      "2016-04-18 00:00:00\n",
      "2016-06-07 00:00:00\n",
      "2016-07-27 00:00:00\n",
      "2016-09-15 00:00:00\n",
      "2016-11-04 00:00:00\n"
     ]
    }
   ],
   "source": [
    "dates_list = ['04/18/2016',\n",
    " '06/07/2016',\n",
    " '07/27/2016',\n",
    " '09/15/2016',\n",
    " '11/04/2016']\n",
    "\n",
    "# Import the datetime object from datetime\n",
    "from datetime import datetime\n",
    "\n",
    "# Iterate over the dates_list \n",
    "for date_str in dates_list:\n",
    "    # Convert each date to a datetime object: date_dt\n",
    "    date_dt = datetime.strptime(date_str, '%m/%d/%Y')\n",
    "    \n",
    "    # Print each date_dt\n",
    "    print(date_dt)"
   ]
  },
  {
   "cell_type": "markdown",
   "metadata": {},
   "source": [
    "- Loop over the first 10 items of the datetimes_list, using item as your iterator variable.\n",
    "- Print out the item as a string in the format of 'MM/DD/YYYY'. For this, the format string is '%m/%d/%Y'.\n",
    "- Print out the item as an ISO standard string."
   ]
  },
  {
   "cell_type": "code",
   "execution_count": 6,
   "metadata": {},
   "outputs": [
    {
     "name": "stdout",
     "output_type": "stream",
     "text": [
      "04/18/2016\n",
      "2016-04-18T00:00:00\n",
      "06/07/2016\n",
      "2016-06-07T00:00:00\n",
      "07/27/2016\n",
      "2016-07-27T00:00:00\n",
      "09/15/2016\n",
      "2016-09-15T00:00:00\n",
      "11/04/2016\n",
      "2016-11-04T00:00:00\n"
     ]
    }
   ],
   "source": [
    "datetimes_list = [datetime(2016, 4, 18, 0, 0),\n",
    " datetime(2016, 6, 7, 0, 0),\n",
    " datetime(2016, 7, 27, 0, 0),\n",
    " datetime(2016, 9, 15, 0, 0),\n",
    " datetime(2016, 11, 4, 0, 0)]\n",
    "# Loop over the first 10 items of the datetimes_list\n",
    "for item in datetimes_list[:10]:\n",
    "    # Print out the record as a string in the format of 'MM/DD/YYYY'\n",
    "    print(item.strftime('%m/%d/%Y'))\n",
    "    \n",
    "    # Print out the record as an ISO standard string\n",
    "    print(item.isoformat())"
   ]
  },
  {
   "cell_type": "markdown",
   "metadata": {},
   "source": [
    "- Create a defaultdict of an integer called monthly_total_rides.\n",
    "- Loop over the list daily_summaries, which contains the columns mentioned above in the assignment text.\n",
    "- Convert the service_date (1st element of daily_summary) to a datetime object called service_datetime. Use '%m/%d/%Y' as your format string.\n",
    "- Use the month of the service_datetime as the dict key and add the total_rides (5th element of daily_summary) to the current amount for the month. Be sure to convert this into an integer.\n",
    "- Print monthly_total_rides."
   ]
  },
  {
   "cell_type": "code",
   "execution_count": 10,
   "metadata": {},
   "outputs": [
    {
     "name": "stdout",
     "output_type": "stream",
     "text": [
      "defaultdict(<class 'int'>, {9: 6581637})\n"
     ]
    }
   ],
   "source": [
    "daily_summaries = [('09/22/2003', 'W', '992288', '638244', '1630532'),\n",
    " ('09/23/2003', 'W', '1023379', '655433', '1678812'),\n",
    " ('09/24/2003', 'W', '973736', '643836', '1617572'),\n",
    " ('09/25/2003', 'W', '1006367', '648354', '1654721')]\n",
    "from collections import defaultdict\n",
    "# Create a defaultdict of an integer: monthly_total_rides\n",
    "monthly_total_rides = defaultdict(int)\n",
    "\n",
    "# Loop over the list daily_summaries\n",
    "for daily_summary in daily_summaries:\n",
    "    # Convert the service_date to a datetime object\n",
    "    service_datetime = datetime.strptime(daily_summary[0],'%m/%d/%Y')\n",
    "\n",
    "    # Add the total rides to the current amount for the month\n",
    "    monthly_total_rides[service_datetime.month] += int(daily_summary[4])\n",
    "    \n",
    "# Print monthly_total_rides\n",
    "print(monthly_total_rides)"
   ]
  },
  {
   "cell_type": "markdown",
   "metadata": {},
   "source": [
    "- Import datetime from the datetime module.\n",
    "- Store the local datetime as local_dt and print it.\n",
    "- Store the UTC datetime as utc_dt and print it."
   ]
  },
  {
   "cell_type": "code",
   "execution_count": 11,
   "metadata": {},
   "outputs": [
    {
     "name": "stdout",
     "output_type": "stream",
     "text": [
      "2022-05-10 09:06:09.267823\n",
      "2022-05-10 03:06:09.268820\n"
     ]
    }
   ],
   "source": [
    "# Import datetime from the datetime module\n",
    "from datetime import datetime\n",
    "\n",
    "# Compute the local datetime: local_dt\n",
    "local_dt = datetime.now()\n",
    "\n",
    "# Print the local datetime\n",
    "print(local_dt)\n",
    "\n",
    "# Compute the UTC datetime: utc_dt\n",
    "utc_dt = datetime.utcnow()\n",
    "\n",
    "# Print the UTC datetime\n",
    "print(utc_dt)"
   ]
  },
  {
   "cell_type": "markdown",
   "metadata": {},
   "source": [
    "- Create a Timezone object for Chicago ('US/Central') called chicago_usa_tz.\n",
    "- Create a Timezone object for New York ('US/Eastern') called ny_usa_tz.\n",
    "- Iterate over the daily_summaries, unpacking it into the variables orig_dt and ridership.\n",
    "- Make the orig_dt timezone \"aware\" for Chicago, using chicago_usa_tz. Store the result in chicago_dt.\n",
    "- Convert chicago_dt to the New York timezone, ny_dt.\n",
    "- Print the chicago_dt, ny_dt, and ridership."
   ]
  },
  {
   "cell_type": "code",
   "execution_count": 14,
   "metadata": {},
   "outputs": [
    {
     "name": "stdout",
     "output_type": "stream",
     "text": [
      "Chicago: 2001-01-05 05:08:00-05:51, NY: 2001-01-05 05:59:00-05:00, Ridership: 557917\n",
      "Chicago: 2001-01-06 13:22:00-05:51, NY: 2001-01-06 14:13:00-05:00, Ridership: 255356\n",
      "Chicago: 2001-01-07 16:11:00-05:51, NY: 2001-01-07 17:02:00-05:00, Ridership: 169825\n",
      "Chicago: 2001-01-08 11:53:00-05:51, NY: 2001-01-08 12:44:00-05:00, Ridership: 590706\n",
      "Chicago: 2001-01-09 01:18:00-05:51, NY: 2001-01-09 02:09:00-05:00, Ridership: 599905\n"
     ]
    }
   ],
   "source": [
    "from pytz import timezone\n",
    "\n",
    "daily_summaries = [(datetime(2001, 1, 5, 5, 8), '557917'),\n",
    " (datetime(2001, 1, 6, 13, 22), '255356'),\n",
    " (datetime(2001, 1, 7, 16, 11), '169825'),\n",
    " (datetime(2001, 1, 8, 11, 53), '590706'),\n",
    " (datetime(2001, 1, 9, 1, 18), '599905')]\n",
    "\n",
    "# Create a Timezone object for Chicago\n",
    "chicago_usa_tz = timezone('US/Central')\n",
    "\n",
    "# Create a Timezone object for New York\n",
    "ny_usa_tz = timezone('US/Eastern')\n",
    "\n",
    "# Iterate over the daily_summaries list\n",
    "for orig_dt , ridership in daily_summaries:\n",
    "\n",
    "    # Make the orig_dt timezone \"aware\" for Chicago\n",
    "    chicago_dt = orig_dt.replace(tzinfo = chicago_usa_tz)\n",
    "    \n",
    "    # Convert chicago_dt to the New York Timezone\n",
    "    ny_dt = chicago_dt.astimezone(ny_usa_tz)\n",
    "    \n",
    "    # Print the chicago_dt, ny_dt, and ridership\n",
    "    print('Chicago: %s, NY: %s, Ridership: %s' % (chicago_dt, ny_dt, ridership))"
   ]
  },
  {
   "cell_type": "markdown",
   "metadata": {},
   "source": [
    "- Import timedelta from the datetime module.\n",
    "- Build a timedelta of 30 days called glanceback using timedelta().\n",
    "- Iterate over the review_dates, using date as your iterator variable.\n",
    "- Calculate the date 30 days back by subtracting glanceback from date.\n",
    "- Print the date, along with 'day_type' and 'total_ridership' from daily_summaries for that date.\n",
    "- Print the prior_period_dt, along with 'day_type' and 'total_ridership' from daily_summaries for that date (prior_period_dt)."
   ]
  },
  {
   "cell_type": "code",
   "execution_count": 24,
   "metadata": {},
   "outputs": [],
   "source": [
    "# # Import timedelta from the datetime module\n",
    "# from datetime import timedelta\n",
    "# daily_summaries = {datetime(2003, 9, 25, 0, 0): {'day_type': 'W',  'total_ridership': '1654721'},\n",
    "#                datetime(2003, 9, 26, 0, 0): {'day_type': 'W',  'total_ridership': '1583162'},\n",
    "#                datetime(2003, 9, 27, 0, 0): {'day_type': 'A',  'total_ridership': '950325'}}\n",
    "# review_dates = [datetime(2013, 12, 27, 0, 0),\n",
    "#  datetime(2013, 12, 28, 0, 0),\n",
    "#  datetime(2013, 12, 29, 0, 0),\n",
    "#  datetime(2013, 12, 30, 0, 0),\n",
    "#  datetime(2013, 12, 31, 0, 0)]\n",
    "\n",
    "# # Build a timedelta of 30 days: glanceback\n",
    "# glanceback = timedelta(days = 30)\n",
    "\n",
    "# # Iterate over the review_dates as date\n",
    "# for date in review_dates:\n",
    "#     # Calculate the date 30 days back: prior_period_dt\n",
    "#     prior_period_dt = date - glanceback\n",
    "    \n",
    "#     # Print the review_date, day_type and total_ridership\n",
    "#     print('Date: %s, Type: %s, Total Ridership: %s' %\n",
    "#          (date, \n",
    "#           daily_summaries[date]['day_type'], \n",
    "#           daily_summaries[date]['total_ridership']))\n",
    "\n",
    "#     # Print the prior_period_dt, day_type and total_ridership\n",
    "#     print('Date: %s, Type: %s, Total Ridership: %s' %\n",
    "#          (prior_period_dt, \n",
    "#           daily_summaries[prior_period_dt]['day_type'], \n",
    "#           daily_summaries[prior_period_dt]['total_ridership']))"
   ]
  },
  {
   "cell_type": "markdown",
   "metadata": {},
   "source": [
    "- Iterate over date_ranges, unpacking it into start_date and end_date.\n",
    "- Print the end_date and start_date using the same print() function.\n",
    "- Print the difference between each end_date and start_date."
   ]
  },
  {
   "cell_type": "code",
   "execution_count": 26,
   "metadata": {},
   "outputs": [
    {
     "name": "stdout",
     "output_type": "stream",
     "text": [
      "2013-01-26 00:00:00 2012-12-27 00:00:00\n",
      "30 days, 0:00:00\n",
      "2013-03-27 00:00:00 2013-02-25 00:00:00\n",
      "30 days, 0:00:00\n",
      "2013-05-26 00:00:00 2013-04-26 00:00:00\n",
      "30 days, 0:00:00\n",
      "2013-07-25 00:00:00 2013-06-25 00:00:00\n",
      "30 days, 0:00:00\n",
      "2013-09-23 00:00:00 2013-08-24 00:00:00\n",
      "30 days, 0:00:00\n",
      "2013-11-22 00:00:00 2013-10-23 00:00:00\n",
      "30 days, 0:00:00\n"
     ]
    }
   ],
   "source": [
    "date_ranges = [(datetime(2012, 12, 27, 0, 0), datetime(2013, 1, 26, 0, 0)),\n",
    " (datetime(2013, 2, 25, 0, 0), datetime(2013, 3, 27, 0, 0)),\n",
    " (datetime(2013, 4, 26, 0, 0), datetime(2013, 5, 26, 0, 0)),\n",
    " (datetime(2013, 6, 25, 0, 0), datetime(2013, 7, 25, 0, 0)),\n",
    " (datetime(2013, 8, 24, 0, 0), datetime(2013, 9, 23, 0, 0)),\n",
    " (datetime(2013, 10, 23, 0, 0),\n",
    "  datetime(2013, 11, 22, 0, 0))]\n",
    "# Iterate over the date_ranges\n",
    "for start_date, end_date in date_ranges:\n",
    "    # Print the End and Start Date\n",
    "    print(end_date, start_date)\n",
    "    # Print the difference between each end and start date\n",
    "    print(end_date - start_date)"
   ]
  },
  {
   "cell_type": "markdown",
   "metadata": {},
   "source": [
    "- Import the pendulum module.\n",
    "- Create a now datetime for Tokyo ('Asia/Tokyo') called tokyo_dt.\n",
    "- Convert tokyo_dt to Los Angeles time ('America/Los_Angeles'). Store the result as la_dt.\n",
    "- Print the ISO 8601 string of la_dt, using the .to_iso8601_string() method."
   ]
  },
  {
   "cell_type": "code",
   "execution_count": 27,
   "metadata": {},
   "outputs": [
    {
     "name": "stdout",
     "output_type": "stream",
     "text": [
      "2022-05-09T20:32:32.902056-07:00\n"
     ]
    }
   ],
   "source": [
    "# Import the pendulum module\n",
    "import pendulum\n",
    "\n",
    "# Create a now datetime for Tokyo: tokyo_dt\n",
    "tokyo_dt = pendulum.now('Asia/Tokyo')\n",
    "\n",
    "# Covert the tokyo_dt to Los Angeles: la_dt\n",
    "la_dt = tokyo_dt.in_timezone('America/Los_Angeles')\n",
    "\n",
    "# Print the ISO 8601 string of la_dt\n",
    "print( la_dt.to_iso8601_string())"
   ]
  },
  {
   "cell_type": "markdown",
   "metadata": {},
   "source": [
    "- Iterate over the date_ranges list, unpacking it into start_date and end_date. These dates are not in ISO 8601 format.\n",
    "- Use pendulum to convert the start_date string to a pendulum date called start_dt.\n",
    "- Use pendulum to convert the end_date string to pendulum date called end_dt.\n",
    "- Calculate the difference between end_dt and start_dt. Store the result as diff_period.\n",
    "- Print the difference in days, using the .in_days() method."
   ]
  },
  {
   "cell_type": "code",
   "execution_count": 29,
   "metadata": {},
   "outputs": [
    {
     "name": "stdout",
     "output_type": "stream",
     "text": [
      "2013-03-27T00:00:00+00:00 2013-02-25T00:00:00+00:00\n",
      "30\n",
      "2013-05-26T00:00:00+00:00 2013-04-26T00:00:00+00:00\n",
      "30\n",
      "2013-07-25T00:00:00+00:00 2013-06-25T00:00:00+00:00\n",
      "30\n",
      "2013-09-23T00:00:00+00:00 2013-08-24T00:00:00+00:00\n",
      "30\n",
      "2013-11-22T00:00:00+00:00 2013-10-23T00:00:00+00:00\n",
      "30\n"
     ]
    }
   ],
   "source": [
    "date_ranges = [('02/25/2013', '03/27/2013'),\n",
    " ('04/26/2013', '05/26/2013'),\n",
    " ('06/25/2013', '07/25/2013'),\n",
    " ('08/24/2013', '09/23/2013'),\n",
    " ('10/23/2013', '11/22/2013')]\n",
    "# Iterate over date_ranges\n",
    "for start_date , end_date in date_ranges:\n",
    "\n",
    "    # Convert the start_date string to a pendulum date: start_dt \n",
    "    start_dt = pendulum.parse(start_date, strict = False)\n",
    "    \n",
    "    # Convert the end_date string to a pendulum date: end_dt \n",
    "    end_dt = pendulum.parse(end_date, strict = False)\n",
    "    \n",
    "    # Print the End and Start Date\n",
    "    print(end_dt, start_dt)\n",
    "    \n",
    "    # Calculate the difference between end_dt and start_dt: diff_period\n",
    "    diff_period = end_dt - start_dt\n",
    "    \n",
    "    # Print the difference in days\n",
    "    print(diff_period.in_days())"
   ]
  }
 ],
 "metadata": {
  "interpreter": {
   "hash": "1e949e87132dd83f1a7623eb88007e3532b03b66b77111be347aa4a383049722"
  },
  "kernelspec": {
   "display_name": "Python 3.8.11 ('env_py')",
   "language": "python",
   "name": "python3"
  },
  "language_info": {
   "codemirror_mode": {
    "name": "ipython",
    "version": 3
   },
   "file_extension": ".py",
   "mimetype": "text/x-python",
   "name": "python",
   "nbconvert_exporter": "python",
   "pygments_lexer": "ipython3",
   "version": "3.8.11"
  },
  "orig_nbformat": 4
 },
 "nbformat": 4,
 "nbformat_minor": 2
}
