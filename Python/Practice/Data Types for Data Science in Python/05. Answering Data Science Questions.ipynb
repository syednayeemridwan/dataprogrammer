{
 "cells": [
  {
   "cell_type": "markdown",
   "metadata": {},
   "source": [
    "- Import the Python csv module.\n",
    "- Create a Python file object in read mode for crime_sampler.csv called csvfile.\n",
    "- Create an empty list called crime_data.\n",
    "- Loop over a csv reader on the file object :\n",
    "- Inside the loop, append the date (first element), type of crime (third element), location description (fifth element), and arrest (sixth element) to the crime_data list.\n",
    "- Remove the first element (headers) from the crime_data list.\n",
    "- Print the first 10 records of the crime_data list. This has been done for you, so hit 'Submit Answer' to see the result!"
   ]
  },
  {
   "cell_type": "code",
   "execution_count": 1,
   "metadata": {},
   "outputs": [
    {
     "name": "stdout",
     "output_type": "stream",
     "text": [
      "[('05/23/2016 05:35:00 PM', 'ASSAULT', 'STREET', 'false'), ('03/26/2016 08:20:00 PM', 'BURGLARY', 'SMALL RETAIL STORE', 'false'), ('04/25/2016 03:05:00 PM', 'THEFT', 'DEPARTMENT STORE', 'true'), ('04/26/2016 05:30:00 PM', 'BATTERY', 'SIDEWALK', 'false'), ('06/19/2016 01:15:00 AM', 'BATTERY', 'SIDEWALK', 'false'), ('05/28/2016 08:00:00 PM', 'BATTERY', 'GAS STATION', 'false'), ('07/03/2016 03:43:00 PM', 'THEFT', 'OTHER', 'false'), ('06/11/2016 06:55:00 PM', 'PUBLIC PEACE VIOLATION', 'STREET', 'true'), ('10/04/2016 10:20:00 AM', 'BATTERY', 'STREET', 'true'), ('02/14/2017 09:00:00 PM', 'CRIMINAL DAMAGE', 'PARK PROPERTY', 'false')]\n"
     ]
    }
   ],
   "source": [
    "# Import the csv module\n",
    "import csv\n",
    "\n",
    "# Create the file object: csvfile\n",
    "csvfile = open(\"crime_sampler.csv\", \"r\")\n",
    "\n",
    "# Create an empty list: crime_data\n",
    "crime_data = []\n",
    "\n",
    "# Loop over a csv reader on the file object\n",
    "for row in csv.reader(csvfile):\n",
    "\n",
    "    # Append the date, type of crime, location description, and arrest\n",
    "    crime_data.append((row[0], row[2], row[4], row[5]))\n",
    "    \n",
    "# Remove the first element from crime_data\n",
    "crime_data.pop(0)\n",
    "\n",
    "# Print the first 10 records\n",
    "print(crime_data[:10])"
   ]
  },
  {
   "cell_type": "markdown",
   "metadata": {},
   "source": [
    "- Import Counter from collections and datetime from datetime.\n",
    "- Create a Counter object called crimes_by_month.\n",
    "- Loop over the crime_data list:\n",
    "- Using the datetime.strptime() function, convert the first element of each item into a Python Datetime Object called date.\n",
    "- Increment the counter for the month associated with this row by one. You can access the month of date using date.month.\n",
    "- Print the 3 most common months for crime."
   ]
  },
  {
   "cell_type": "code",
   "execution_count": 2,
   "metadata": {},
   "outputs": [
    {
     "name": "stdout",
     "output_type": "stream",
     "text": [
      "[(1, 1948), (2, 1862), (7, 1257)]\n"
     ]
    }
   ],
   "source": [
    "# Import necessary modules\n",
    "from datetime import datetime\n",
    "from collections import Counter\n",
    "\n",
    "# Create a Counter Object: crimes_by_month\n",
    "crimes_by_month = Counter()\n",
    "\n",
    "# Loop over the crime_data list\n",
    "for data in crime_data:\n",
    "    \n",
    "    # Convert the first element of each item into a Python Datetime Object: date\n",
    "    date = datetime.strptime(data[0], '%m/%d/%Y %I:%M:%S %p')\n",
    "    \n",
    "    # Increment the counter for the month of the row by one\n",
    "    crimes_by_month[date.month] += 1\n",
    "    \n",
    "# Print the 3 most common months for crime\n",
    "print(crimes_by_month.most_common(3))"
   ]
  },
  {
   "cell_type": "markdown",
   "metadata": {},
   "source": [
    "- Import defaultdict from collections and datetime from datetime.\n",
    "- Create a dictionary that defaults to a list called locations_by_month.\n",
    "- Loop over the crime_data list:\n",
    "- Convert the first element to a date object exactly like you did in the previous exercise.\n",
    "- If the year is 2016, set the key of locations_by_month to be the month of date and .append() the location (fifth element of row) to the values list.\n",
    "- Print the dictionary. This has been done for you, so hit 'Submit Answer' to see the result!"
   ]
  },
  {
   "cell_type": "code",
   "execution_count": 5,
   "metadata": {},
   "outputs": [],
   "source": [
    "# # Import necessary modules\n",
    "# from collections import defaultdict\n",
    "# from datetime import datetime\n",
    "\n",
    "# # Create a dictionary that defaults to a list: locations_by_month\n",
    "# locations_by_month = defaultdict(list)\n",
    "\n",
    "# # Loop over the crime_data list\n",
    "# for row in crime_data:\n",
    "#     # Convert the first element to a date object\n",
    "#     date = datetime.strptime(row[0], '%m/%d/%Y %I:%M:%S %p')\n",
    "    \n",
    "#     # If the year is 2016 \n",
    "#     if date.year == 2016:\n",
    "#         # Set the dictionary key to the month and append the location (fifth element) to the values list\n",
    "#         locations_by_month[date.month].append(row[4])\n",
    "    \n",
    "# # Print the dictionary\n",
    "# print(locations_by_month)"
   ]
  },
  {
   "cell_type": "markdown",
   "metadata": {},
   "source": [
    "- Import Counter from collections.\n",
    "- Loop over the items from your dictionary, using tuple expansion to unpack locations_by_month.items() into month and locations.\n",
    "- Make a Counter of the locations called location_count.\n",
    "- Print the month.\n",
    "- Print the five most common crime locations."
   ]
  },
  {
   "cell_type": "code",
   "execution_count": 6,
   "metadata": {},
   "outputs": [
    {
     "name": "stdout",
     "output_type": "stream",
     "text": [
      "5\n",
      "[('THEFT', 224), ('BATTERY', 215), ('CRIMINAL DAMAGE', 128), ('OTHER OFFENSE', 75), ('ASSAULT', 72)]\n",
      "3\n",
      "[('BATTERY', 218), ('THEFT', 218), ('CRIMINAL DAMAGE', 114), ('OTHER OFFENSE', 93), ('DECEPTIVE PRACTICE', 77)]\n",
      "4\n",
      "[('THEFT', 213), ('BATTERY', 209), ('CRIMINAL DAMAGE', 103), ('NARCOTICS', 80), ('ASSAULT', 77)]\n",
      "6\n",
      "[('BATTERY', 238), ('THEFT', 233), ('CRIMINAL DAMAGE', 129), ('DECEPTIVE PRACTICE', 73), ('NARCOTICS', 72)]\n",
      "7\n",
      "[('THEFT', 286), ('BATTERY', 243), ('CRIMINAL DAMAGE', 172), ('ASSAULT', 86), ('DECEPTIVE PRACTICE', 74)]\n",
      "10\n",
      "[('THEFT', 264), ('BATTERY', 210), ('CRIMINAL DAMAGE', 115), ('ASSAULT', 110), ('DECEPTIVE PRACTICE', 77)]\n",
      "12\n",
      "[('THEFT', 240), ('BATTERY', 181), ('CRIMINAL DAMAGE', 87), ('OTHER OFFENSE', 66), ('DECEPTIVE PRACTICE', 63)]\n",
      "1\n",
      "[('THEFT', 220), ('BATTERY', 197), ('CRIMINAL DAMAGE', 101), ('DECEPTIVE PRACTICE', 70), ('BURGLARY', 66)]\n",
      "9\n",
      "[('THEFT', 281), ('BATTERY', 225), ('CRIMINAL DAMAGE', 135), ('ASSAULT', 87), ('DECEPTIVE PRACTICE', 66)]\n",
      "11\n",
      "[('THEFT', 234), ('BATTERY', 187), ('CRIMINAL DAMAGE', 110), ('BURGLARY', 85), ('DECEPTIVE PRACTICE', 68)]\n",
      "8\n",
      "[('THEFT', 294), ('BATTERY', 207), ('CRIMINAL DAMAGE', 162), ('ASSAULT', 93), ('BURGLARY', 83)]\n",
      "2\n",
      "[('THEFT', 215), ('BATTERY', 166), ('CRIMINAL DAMAGE', 95), ('DECEPTIVE PRACTICE', 66), ('OTHER OFFENSE', 65)]\n"
     ]
    }
   ],
   "source": [
    "# Import Counter from collections\n",
    "from collections import Counter\n",
    "\n",
    "# Loop over the items from locations_by_month using tuple expansion of the month and locations\n",
    "for month , locations in locations_by_month.items():\n",
    "    # Make a Counter of the locations\n",
    "    location_count = Counter(locations)\n",
    "    # Print the month \n",
    "    print(month)\n",
    "    # Print the most common location\n",
    "    print(location_count.most_common(5))"
   ]
  },
  {
   "cell_type": "markdown",
   "metadata": {},
   "source": [
    "- Create a Python file object in read mode for crime_sampler.csv called csvfile.\n",
    "- Create a dictionary that defaults to a list called crimes_by_district.\n",
    "- Loop over a DictReader of the CSV file:\n",
    "- Pop 'District' from each row and store it as district.\n",
    "- Append the rest of the data (row) to the district key of crimes_by_district."
   ]
  },
  {
   "cell_type": "code",
   "execution_count": 7,
   "metadata": {},
   "outputs": [],
   "source": [
    "# Create the CSV file: csvfile\n",
    "csvfile = open(\"crime_sampler.csv\",\"r\")\n",
    "\n",
    "# Create a dictionary that defaults to a list: crimes_by_district\n",
    "crimes_by_district = defaultdict(list)\n",
    "\n",
    "# Loop over a DictReader of the CSV file\n",
    "for row in csv.DictReader(csvfile):\n",
    "    # Pop the district from each row: district\n",
    "    district = row.pop('District')\n",
    "    # Append the rest of the data to the list for proper district in crimes_by_district\n",
    "    crimes_by_district[district].append(row)"
   ]
  },
  {
   "cell_type": "markdown",
   "metadata": {},
   "source": [
    "- Loop over the crimes_by_district dictionary, unpacking it into the variables district and crimes.\n",
    "- Create an empty Counter object called year_count.\n",
    "- Loop over the crimes:\n",
    "- If there was an arrest,\n",
    "- Convert crime['Date'] to a datetime object called year.\n",
    "- Add the crime to the Counter for the year, by using year as the key of year_count.\n",
    "- Print the Counter. This has been done for you, so hit 'Submit Answer' to see the result!"
   ]
  },
  {
   "cell_type": "code",
   "execution_count": 8,
   "metadata": {},
   "outputs": [
    {
     "name": "stdout",
     "output_type": "stream",
     "text": [
      "14\n",
      "Counter({2016: 59, 2017: 8})\n",
      "24\n",
      "Counter({2016: 51, 2017: 10})\n",
      "6\n",
      "Counter({2016: 157, 2017: 32})\n",
      "15\n",
      "Counter({2016: 154, 2017: 16})\n",
      "12\n",
      "Counter({2016: 72, 2017: 9})\n",
      "7\n",
      "Counter({2016: 181, 2017: 27})\n",
      "1\n",
      "Counter({2016: 124, 2017: 15})\n",
      "11\n",
      "Counter({2016: 275, 2017: 53})\n",
      "18\n",
      "Counter({2016: 92, 2017: 17})\n",
      "22\n",
      "Counter({2016: 78, 2017: 12})\n",
      "5\n",
      "Counter({2016: 149, 2017: 30})\n",
      "16\n",
      "Counter({2016: 66, 2017: 9})\n",
      "9\n",
      "Counter({2016: 116, 2017: 17})\n",
      "8\n",
      "Counter({2016: 124, 2017: 26})\n",
      "3\n",
      "Counter({2016: 98, 2017: 18})\n",
      "2\n",
      "Counter({2016: 84, 2017: 15})\n",
      "19\n",
      "Counter({2016: 88, 2017: 11})\n",
      "10\n",
      "Counter({2016: 144, 2017: 20})\n",
      "4\n",
      "Counter({2016: 134, 2017: 15})\n",
      "17\n",
      "Counter({2016: 38, 2017: 5})\n",
      "20\n",
      "Counter({2016: 27, 2017: 8})\n",
      "25\n",
      "Counter({2016: 150, 2017: 26})\n",
      "31\n",
      "Counter({2016: 1})\n"
     ]
    }
   ],
   "source": [
    "# Loop over the crimes_by_district using expansion as district and crimes\n",
    "for district , crimes in crimes_by_district.items():\n",
    "    # Print the district\n",
    "    print(district)\n",
    "    \n",
    "    # Create an empty Counter object: year_count\n",
    "    year_count = Counter()\n",
    "    \n",
    "    # Loop over the crimes:\n",
    "    for crime in crimes:\n",
    "        # If there was an arrest\n",
    "        if crime['Arrest'] == 'true':\n",
    "            # Convert the Date to a datetime and get the year\n",
    "            year = datetime.strptime(crime['Date'], '%m/%d/%Y %I:%M:%S %p').year\n",
    "            # Increment the Counter for the year\n",
    "            year_count[year] += 1\n",
    "            \n",
    "    # Print the counter\n",
    "    print(year_count)"
   ]
  },
  {
   "cell_type": "markdown",
   "metadata": {},
   "source": [
    "- Create a unique list of crimes for the '001XX N STATE ST' block called n_state_st_crimes and print it.\n",
    "- Create a unique list of crimes for the '0000X W TERMINAL ST' block called w_terminal_st_crimes and print it.\n",
    "- Find the crimes committed on 001XX N STATE ST but not 0000X W TERMINAL ST. Store the result as crime_differences and print it."
   ]
  },
  {
   "cell_type": "code",
   "execution_count": 10,
   "metadata": {},
   "outputs": [],
   "source": [
    "# # Create a unique list of crimes for the first block: n_state_st_crimes\n",
    "# n_state_st_crimes = set(crimes_by_block['001XX N STATE ST'])\n",
    "\n",
    "# # Print the list\n",
    "# print(n_state_st_crimes)\n",
    "\n",
    "# # Create a unique list of crimes for the second block: w_terminal_st_crimes\n",
    "# w_terminal_st_crimes = set(crimes_by_block['0000X W TERMINAL ST'])\n",
    "\n",
    "# # Print the list\n",
    "# print(w_terminal_st_crimes)\n",
    "\n",
    "# # Find the differences between the two blocks: crime_differences\n",
    "# crime_differences = n_state_st_crimes.difference(w_terminal_st_crimes)\n",
    "\n",
    "# # Print the differences\n",
    "# print(crime_differences)"
   ]
  }
 ],
 "metadata": {
  "interpreter": {
   "hash": "1e949e87132dd83f1a7623eb88007e3532b03b66b77111be347aa4a383049722"
  },
  "kernelspec": {
   "display_name": "Python 3.8.11 ('env_py')",
   "language": "python",
   "name": "python3"
  },
  "language_info": {
   "codemirror_mode": {
    "name": "ipython",
    "version": 3
   },
   "file_extension": ".py",
   "mimetype": "text/x-python",
   "name": "python",
   "nbconvert_exporter": "python",
   "pygments_lexer": "ipython3",
   "version": "3.8.11"
  },
  "orig_nbformat": 4
 },
 "nbformat": 4,
 "nbformat_minor": 2
}
