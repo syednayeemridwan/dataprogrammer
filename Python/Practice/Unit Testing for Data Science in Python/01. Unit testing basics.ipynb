{
 "cells": [
  {
   "cell_type": "markdown",
   "metadata": {},
   "source": [
    "Whent to test functions:\n",
    "- A function is tested after the first implementation and then any time the function is modified, which happens mainly when new bugs are found, new features are implemented or the code is refactored.\n"
   ]
  },
  {
   "cell_type": "markdown",
   "metadata": {},
   "source": [
    "- Import the pytest package.\n",
    "- Import the function convert_to_int().\n",
    "- Complete the name of the unit test by adding the prefix which pytest uses to distinguish unit tests from ordinary functions.\n",
    "- Complete the assert statement to check if convert_to_int() returns the expected value for the argument \"2,081\"."
   ]
  },
  {
   "cell_type": "code",
   "execution_count": 1,
   "metadata": {},
   "outputs": [],
   "source": [
    "# # Import the pytest package\n",
    "# import pytest\n",
    "\n",
    "# # Import the function convert_to_int()\n",
    "# from preprocessing_helpers import convert_to_int\n",
    "\n",
    "# # Complete the unit test name by adding a prefix\n",
    "# def test_on_string_with_one_comma():\n",
    "#   # Complete the assert statement\n",
    "#   assert convert_to_int(\"2,081\") == 2081"
   ]
  },
  {
   "cell_type": "markdown",
   "metadata": {},
   "source": [
    "- The tests that you wrote in the previous exercise have been written to a test module test_convert_to_int.py. Try running the tests in the IPython console."
   ]
  },
  {
   "cell_type": "code",
   "execution_count": 2,
   "metadata": {},
   "outputs": [],
   "source": [
    "# !pytest test_convert_to_int.py"
   ]
  },
  {
   "cell_type": "markdown",
   "metadata": {},
   "source": [
    "In the test result report, the character ., as shown below, stands for a passing test. A passing test is good news as it means that your function works as expected. The character F stands for a failing test. A failing test is bad news as this means that something is broken.\n",
    "```\n",
    "test_row_to_list.py .F.                                                  [100%]\n",
    "```\n",
    "- An exception is raised when running the unit test. This could be an AssertionError raised by the assert statement or another exception, e.g. NameError, which is raised before the assert statement can run."
   ]
  },
  {
   "cell_type": "markdown",
   "metadata": {},
   "source": [
    "Read the report generated from `!pytest test_convert_to_int.py` command. Which of the following describes the bug in the function convert_to_int():\n",
    "\n",
    "```\n",
    "test_convert_to_int.py F                                                      [100%]\n",
    "\n",
    "=================================================================================================================================================================================================== FAILURES ===================================================================================================================================================================================================\n",
    "________________________________________________________________________________________________________________________________________________________________________________________ test_on_string_with_one_comma _________________________________________________________________________________________________________________________________________________________________________________________\n",
    "\n",
    "    def test_on_string_with_one_comma():\n",
    ">     assert convert_to_int(\"2,081\") == 2081\n",
    "E     AssertionError: assert '2081' == 2081\n",
    "E      +  where '2081' = convert_to_int('2,081')\n",
    "\n",
    "test_convert_to_int.py:7: AssertionError\n",
    "```\n",
    "\n",
    "- convert_to_int(\"2,081\") is expected to return the integer 2081, but it is actually returning the string \"2081\"."
   ]
  },
  {
   "cell_type": "markdown",
   "metadata": {},
   "source": [
    "Fix the convert_to_int() function so that it returns the integer 2081 instead of the string \"2081\" for the argument \"2,081\"."
   ]
  },
  {
   "cell_type": "code",
   "execution_count": 3,
   "metadata": {},
   "outputs": [],
   "source": [
    "def convert_to_int(string_with_comma):\n",
    "    # Fix this line so that it returns an int, not a str\n",
    "    return string_with_comma.replace(\",\", \"\")"
   ]
  },
  {
   "cell_type": "code",
   "execution_count": 4,
   "metadata": {},
   "outputs": [],
   "source": [
    "\n",
    "def convert_to_int(string_with_comma):\n",
    "    # Fix this line so that it returns an int, not a str\n",
    "    return int(string_with_comma.replace(\",\", \"\"))"
   ]
  },
  {
   "cell_type": "markdown",
   "metadata": {},
   "source": [
    "Why unit testing:\n",
    "- More user trust in the software product.\n",
    "- Time savings, leading to faster development of new features.\n",
    "- Improved documentation, which will help new colleagues understand the code base better.\n",
    "- Better user experience due to reduced downtime."
   ]
  },
  {
   "cell_type": "markdown",
   "metadata": {},
   "source": [
    "The unit tests for the function is available in the test module test_mystery_function.py. You can read it, and any other file that you encounter, by using the !cat command in the IPython shell.\n",
    "\n",
    "Having read the unit tests, can you guess what mystery_function() does?\n",
    "- It converts data in a data file into a NumPy array."
   ]
  },
  {
   "cell_type": "code",
   "execution_count": 6,
   "metadata": {},
   "outputs": [],
   "source": [
    "# !cat test_mystery_function.py"
   ]
  }
 ],
 "metadata": {
  "interpreter": {
   "hash": "1e949e87132dd83f1a7623eb88007e3532b03b66b77111be347aa4a383049722"
  },
  "kernelspec": {
   "display_name": "Python 3.8.11 ('env_py')",
   "language": "python",
   "name": "python3"
  },
  "language_info": {
   "codemirror_mode": {
    "name": "ipython",
    "version": 3
   },
   "file_extension": ".py",
   "mimetype": "text/x-python",
   "name": "python",
   "nbconvert_exporter": "python",
   "pygments_lexer": "ipython3",
   "version": "3.8.11"
  },
  "orig_nbformat": 4
 },
 "nbformat": 4,
 "nbformat_minor": 2
}
