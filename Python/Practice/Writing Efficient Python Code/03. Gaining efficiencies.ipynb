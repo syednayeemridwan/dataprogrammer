{
 "cells": [
  {
   "cell_type": "markdown",
   "metadata": {},
   "source": [
    "- Combine the names list and the primary_types list into a new list object (called names_type1)."
   ]
  },
  {
   "cell_type": "code",
   "execution_count": 1,
   "metadata": {},
   "outputs": [
    {
     "name": "stdout",
     "output_type": "stream",
     "text": [
      "('Rufflet', 'Normal')\n",
      "('Sableye', 'Dark')\n",
      "('Salamence', 'Dark')\n",
      "('Samurott', 'Poison')\n",
      "('Sandile', 'Dark')\n"
     ]
    }
   ],
   "source": [
    "names = ['Rufflet', 'Sableye', 'Salamence', 'Samurott', 'Sandile', 'Sandshrew']\n",
    "primary_types = ['Normal', 'Dark', 'Dark', 'Poison', 'Dark', 'Grass']\n",
    "\n",
    "# Combine names and primary_types\n",
    "names_type1 = [*zip(names, primary_types)]\n",
    "\n",
    "print(*names_type1[:5], sep='\\n')"
   ]
  },
  {
   "cell_type": "markdown",
   "metadata": {},
   "source": [
    "- Combine names, primary_types, and secondary_types (in that order) using zip() and unpack the zip object into a new list."
   ]
  },
  {
   "cell_type": "code",
   "execution_count": 2,
   "metadata": {},
   "outputs": [
    {
     "name": "stdout",
     "output_type": "stream",
     "text": [
      "('Rufflet', 'Normal', nan)\n",
      "('Sableye', 'Dark', 'Grass')\n",
      "('Salamence', 'Dark', 'Flying')\n",
      "('Samurott', 'Poison', 'Flying')\n",
      "('Sandile', 'Dark', nan)\n"
     ]
    }
   ],
   "source": [
    "import numpy as np\n",
    "secondary_types = [ np.nan, 'Grass', 'Flying', 'Flying', np.nan, np.nan]\n",
    "\n",
    "# Combine all three lists together\n",
    "names_types = [*zip(names, primary_types, secondary_types)]\n",
    "\n",
    "print(*names_types[:5], sep='\\n')"
   ]
  },
  {
   "cell_type": "markdown",
   "metadata": {},
   "source": [
    "- Use zip() to combine the first five items from the names list and the first three items from the primary_types list."
   ]
  },
  {
   "cell_type": "code",
   "execution_count": 3,
   "metadata": {},
   "outputs": [
    {
     "name": "stdout",
     "output_type": "stream",
     "text": [
      "('Rufflet', 'Normal')\n",
      "('Sableye', 'Dark')\n",
      "('Salamence', 'Dark')\n"
     ]
    }
   ],
   "source": [
    "# Combine five items from names and three items from primary_types\n",
    "differing_lengths = [*zip(names[:5], primary_types[:3])]\n",
    "\n",
    "print(*differing_lengths, sep='\\n')"
   ]
  },
  {
   "cell_type": "markdown",
   "metadata": {},
   "source": [
    "- Collect the count of each primary type from the sample.\n",
    "- Collect the count of each generation from the sample.\n",
    "- Use list comprehension to collect the first letter of each Pokémon in the names list. Save this as starting_letters.\n",
    "- Collect the count of starting letters from the starting_letters list. Save this as starting_letters_count."
   ]
  },
  {
   "cell_type": "code",
   "execution_count": 5,
   "metadata": {},
   "outputs": [
    {
     "name": "stdout",
     "output_type": "stream",
     "text": [
      "Counter({'Dark': 3, 'Normal': 1, 'Poison': 1, 'Grass': 1}) \n",
      "\n",
      "Counter({5: 2, 6: 1, 2: 1, 1: 1, 3: 1}) \n",
      "\n",
      "Counter({'S': 5, 'R': 1})\n"
     ]
    }
   ],
   "source": [
    "from collections import Counter\n",
    "generations = [5, 6, 2, 1, 3, 5]\n",
    "\n",
    "# Collect the count of primary types\n",
    "type_count = Counter(primary_types)\n",
    "print(type_count, '\\n')\n",
    "\n",
    "# Collect the count of generations\n",
    "gen_count = Counter(generations)\n",
    "print(gen_count, '\\n')\n",
    "\n",
    "# Use list comprehension to get each Pokémon's starting letter\n",
    "starting_letters = [name[0] for name in names]\n",
    "\n",
    "# Collect the count of Pokémon for each starting_letter\n",
    "starting_letters_count =  Counter(starting_letters)\n",
    "print(starting_letters_count)"
   ]
  },
  {
   "cell_type": "markdown",
   "metadata": {},
   "source": [
    "- Import combinations from itertools.\n",
    "- Create a combinations object called combos_obj that contains all possible pairs of Pokémon from the pokemon list. A pair has 2 Pokémon.\n",
    "- Unpack combos_obj into a list called combos_2.\n",
    "- Ash upgraded his Pokédex so that it can now store four Pokémon. Use combinations to collect all possible combinations of 4 different Pokémon. Save these combinations directly into a list called combos_4 using the star character (*)."
   ]
  },
  {
   "cell_type": "code",
   "execution_count": 6,
   "metadata": {},
   "outputs": [
    {
     "name": "stdout",
     "output_type": "stream",
     "text": [
      "<class 'itertools.combinations'> \n",
      "\n",
      "[('Geodude', 'Cubone'), ('Geodude', 'Lickitung'), ('Geodude', 'Persian'), ('Geodude', 'Diglett'), ('Cubone', 'Lickitung'), ('Cubone', 'Persian'), ('Cubone', 'Diglett'), ('Lickitung', 'Persian'), ('Lickitung', 'Diglett'), ('Persian', 'Diglett')] \n",
      "\n",
      "[('Geodude', 'Cubone', 'Lickitung', 'Persian'), ('Geodude', 'Cubone', 'Lickitung', 'Diglett'), ('Geodude', 'Cubone', 'Persian', 'Diglett'), ('Geodude', 'Lickitung', 'Persian', 'Diglett'), ('Cubone', 'Lickitung', 'Persian', 'Diglett')]\n"
     ]
    }
   ],
   "source": [
    "pokemon = ['Geodude', 'Cubone', 'Lickitung', 'Persian', 'Diglett']\n",
    "\n",
    "# Import combinations from itertools\n",
    "from itertools import combinations\n",
    "\n",
    "# Create a combination object with pairs of Pokémon\n",
    "combos_obj = combinations(pokemon, 2)\n",
    "print(type(combos_obj), '\\n')\n",
    "\n",
    "# Convert combos_obj to a list by unpacking\n",
    "combos_2 = [*combos_obj]\n",
    "print(combos_2, '\\n')\n",
    "\n",
    "# Collect all possible combinations of 4 Pokémon directly into a list\n",
    "combos_4 = [*combinations(pokemon, 4)]\n",
    "print(combos_4)"
   ]
  },
  {
   "cell_type": "markdown",
   "metadata": {},
   "source": [
    "- Convert both lists (ash_pokedex and misty_pokedex) to sets called ash_set and misty_set respectively.\n",
    "- Find the Pokémon that both Ash and Misty have in common using a set method.\n",
    "- Find the Pokémon that are within Ash's Pokédex but are not within Misty's Pokédex with a set method.\n",
    "- Use a set method to find the Pokémon that are unique to either Ash or Misty (i.e., the Pokémon that exist in exactly one of the Pokédexes but not both)."
   ]
  },
  {
   "cell_type": "code",
   "execution_count": 7,
   "metadata": {},
   "outputs": [
    {
     "name": "stdout",
     "output_type": "stream",
     "text": [
      "{'Squirtle', 'Psyduck'}\n",
      "{'Wigglytuff', 'Bulbasaur', 'Pikachu', 'Spearow', 'Zubat', 'Rattata', 'Koffing', 'Vulpix'}\n",
      "{'Koffing', 'Wigglytuff', 'Poliwag', 'Bulbasaur', 'Slowbro', 'Horsea', 'Starmie', 'Magikarp', 'Spearow', 'Pikachu', 'Zubat', 'Tentacool', 'Rattata', 'Vulpix', 'Krabby', 'Vaporeon'}\n"
     ]
    }
   ],
   "source": [
    "ash_pokedex = ['Pikachu', 'Bulbasaur', 'Koffing', 'Spearow', 'Vulpix', 'Wigglytuff', 'Zubat', 'Rattata', 'Psyduck', 'Squirtle']\n",
    "misty_pokedex = ['Krabby', 'Horsea', 'Slowbro', 'Tentacool', 'Vaporeon', 'Magikarp', 'Poliwag', 'Starmie', 'Psyduck', 'Squirtle']\n",
    "\n",
    "# Convert both lists to sets\n",
    "ash_set = set(ash_pokedex)\n",
    "misty_set = set(misty_pokedex)\n",
    "\n",
    "# Find the Pokémon that exist in both sets\n",
    "both = ash_set.intersection(misty_set)\n",
    "print(both)\n",
    "\n",
    "# Find the Pokémon that Ash has and Misty does not have\n",
    "ash_only = ash_set.difference(misty_set)\n",
    "print(ash_only)\n",
    "\n",
    "# Find the Pokémon that are in only one set (not both)\n",
    "unique_to_set = ash_set.symmetric_difference(misty_set)\n",
    "print(unique_to_set)"
   ]
  },
  {
   "cell_type": "markdown",
   "metadata": {},
   "source": [
    "- Convert Brock's Pokédex list (brock_pokedex) to a set called brock_pokedex_set."
   ]
  },
  {
   "cell_type": "code",
   "execution_count": 10,
   "metadata": {},
   "outputs": [
    {
     "name": "stdout",
     "output_type": "stream",
     "text": [
      "{'Squirtle', 'Dugtrio', 'Golem', 'Poliwag', 'Psyduck', 'Starmie', 'Geodude', 'Kabutops', 'Machop', 'Zubat'}\n"
     ]
    }
   ],
   "source": [
    "brock_pokedex = ['Dugtrio', 'Geodude', 'Kabutops', 'Zubat', 'Machop', 'Golem', 'Poliwag', 'Starmie', 'Psyduck', 'Squirtle']\n",
    "# Convert Brock's Pokédex to a set\n",
    "brock_pokedex_set = set(brock_pokedex)\n",
    "print(brock_pokedex_set)"
   ]
  },
  {
   "cell_type": "markdown",
   "metadata": {},
   "source": [
    "- Check if 'Psyduck' is in Ash's Pokédex list (ash_pokedex) and if 'Psyduck' is in Brock's Pokédex set (brock_pokedex_set)."
   ]
  },
  {
   "cell_type": "code",
   "execution_count": 11,
   "metadata": {},
   "outputs": [
    {
     "name": "stdout",
     "output_type": "stream",
     "text": [
      "True\n",
      "True\n"
     ]
    }
   ],
   "source": [
    "# Check if Psyduck is in Ash's list and Brock's set\n",
    "print('Psyduck' in  ash_pokedex)\n",
    "print('Psyduck' in  brock_pokedex_set)"
   ]
  },
  {
   "cell_type": "markdown",
   "metadata": {},
   "source": [
    "- Check if 'Machop' is in Ash's Pokédex list (ash_pokedex) and if 'Machop' is in Brock's Pokédex set (brock_pokedex_set)."
   ]
  },
  {
   "cell_type": "code",
   "execution_count": 12,
   "metadata": {},
   "outputs": [
    {
     "name": "stdout",
     "output_type": "stream",
     "text": [
      "False\n",
      "True\n"
     ]
    }
   ],
   "source": [
    "# Check if Machop is in Ash's list and Brock's set\n",
    "print('Machop' in ash_pokedex)\n",
    "print('Machop' in brock_pokedex_set)"
   ]
  },
  {
   "cell_type": "markdown",
   "metadata": {},
   "source": [
    "Membership testing is much faster when you use sets. use `%%timeit` to determine"
   ]
  },
  {
   "cell_type": "code",
   "execution_count": 13,
   "metadata": {},
   "outputs": [],
   "source": [
    "def find_unique_items(data):\n",
    "    uniques = []\n",
    "\n",
    "    for item in data:\n",
    "        if item not in uniques:\n",
    "            uniques.append(item)\n",
    "\n",
    "    return uniques"
   ]
  },
  {
   "cell_type": "markdown",
   "metadata": {},
   "source": [
    "- Use the provided function to collect the unique Pokémon in the names list. Save this as uniq_names_func.\n",
    "- Use a set data type to collect the unique Pokémon in the names list. Save this as uniq_names_set."
   ]
  },
  {
   "cell_type": "code",
   "execution_count": 14,
   "metadata": {},
   "outputs": [
    {
     "name": "stdout",
     "output_type": "stream",
     "text": [
      "6\n",
      "6\n",
      "True\n"
     ]
    }
   ],
   "source": [
    "# Use find_unique_items() to collect unique Pokémon names\n",
    "uniq_names_func = find_unique_items(names)\n",
    "print(len(uniq_names_func))\n",
    "\n",
    "# Convert the names list to a set to collect unique Pokémon names\n",
    "uniq_names_set = set(names)\n",
    "print(len(uniq_names_set))\n",
    "\n",
    "# Check that both unique collections are equivalent\n",
    "print(sorted(uniq_names_func) == sorted(uniq_names_set))"
   ]
  },
  {
   "cell_type": "markdown",
   "metadata": {},
   "source": [
    "- Within your IPython console, use %timeit to compare the find_unique_items() function with using a set data type to collect unique Pokémon character names in names"
   ]
  },
  {
   "cell_type": "code",
   "execution_count": 15,
   "metadata": {},
   "outputs": [
    {
     "name": "stdout",
     "output_type": "stream",
     "text": [
      "1.26 µs ± 364 ns per loop (mean ± std. dev. of 7 runs, 1000000 loops each)\n",
      "413 ns ± 151 ns per loop (mean ± std. dev. of 7 runs, 1000000 loops each)\n"
     ]
    }
   ],
   "source": [
    "# Use find_unique_items() to collect unique Pokémon names\n",
    "%timeit find_unique_items(names)\n",
    "\n",
    "\n",
    "# Convert the names list to a set to collect unique Pokémon names\n",
    "%timeit set(names)"
   ]
  },
  {
   "cell_type": "markdown",
   "metadata": {},
   "source": [
    "- Use the most efficient approach for gathering unique items to collect the unique Pokémon types (from the primary_types list) and Pokémon generations (from the generations list)."
   ]
  },
  {
   "cell_type": "code",
   "execution_count": 16,
   "metadata": {},
   "outputs": [
    {
     "name": "stdout",
     "output_type": "stream",
     "text": [
      "{'Dark', 'Normal', 'Poison', 'Grass'}\n",
      "{1, 2, 3, 5, 6}\n"
     ]
    }
   ],
   "source": [
    "\n",
    "# Use the best approach to collect unique primary types and generations\n",
    "uniq_types = set(primary_types) \n",
    "uniq_gens = set(generations)\n",
    "print(uniq_types, uniq_gens, sep='\\n') "
   ]
  },
  {
   "cell_type": "markdown",
   "metadata": {},
   "source": [
    "- Eliminate the above for loop using list comprehension and the map() function:\n",
    "- Use list comprehension to collect each Pokémon that belongs to generation 1 or generation 2. Save this as gen1_gen2_pokemon.\n",
    "- Use the map() function to collect the number of letters in each Pokémon's name within the gen1_gen2_pokemon list. Save this map object as name_lengths_map.\n",
    "- Combine gen1_gen2_pokemon and name_length_map into a list called gen1_gen2_name_lengths."
   ]
  },
  {
   "cell_type": "code",
   "execution_count": 20,
   "metadata": {},
   "outputs": [],
   "source": [
    "poke_names = ['Xerneas', 'Yamask', 'Yanma', 'Yanmega', 'Yveltal', 'Zangoose']\n",
    "poke_gens = [ 5, 5, 3, 5, 5, 1]\n",
    "gen1_gen2_name_lengths_loop = []\n",
    "\n",
    "# for name,gen in zip(poke_names, poke_gens):\n",
    "#     if gen < 3:\n",
    "#         name_length = len(name)\n",
    "#         poke_tuple = (name, name_length)\n",
    "#         gen1_gen2_name_lengths_loop.append(poke_tuple)"
   ]
  },
  {
   "cell_type": "code",
   "execution_count": 21,
   "metadata": {},
   "outputs": [
    {
     "name": "stdout",
     "output_type": "stream",
     "text": [
      "[]\n",
      "[('Zangoose', 8)]\n"
     ]
    }
   ],
   "source": [
    "# Collect Pokémon that belong to generation 1 or generation 2\n",
    "gen1_gen2_pokemon = [name for name,gen in zip(poke_names, poke_gens) if gen < 3]\n",
    "\n",
    "# Create a map object that stores the name lengths\n",
    "name_lengths_map = map(len, gen1_gen2_pokemon)\n",
    "\n",
    "# Combine gen1_gen2_pokemon and name_lengths_map into a list\n",
    "gen1_gen2_name_lengths = [*zip(gen1_gen2_pokemon, name_lengths_map)]\n",
    "\n",
    "print(gen1_gen2_name_lengths_loop[:5])\n",
    "print(gen1_gen2_name_lengths[:5])"
   ]
  },
  {
   "cell_type": "code",
   "execution_count": 23,
   "metadata": {},
   "outputs": [],
   "source": [
    "poke_list = []\n",
    "stats = np.array([[ 90,  92,  75,  92,  85,  60],\n",
    "       [ 25,  20,  15, 105,  55,  90],\n",
    "       [ 65, 130,  60,  75,  60,  75],\n",
    "       [ 40,  65,  40,  80,  40,  65],\n",
    "       [ 40,  45,  35,  30,  40,  55],\n",
    "       [ 72,  85,  70,  65,  70,  58]])\n",
    "for pokemon,row in zip(names, stats):\n",
    "    total_stats = np.sum(row)\n",
    "    avg_stats = np.mean(row)\n",
    "    poke_list.append((pokemon, total_stats, avg_stats))"
   ]
  },
  {
   "cell_type": "markdown",
   "metadata": {},
   "source": [
    "- Replace the above for loop using NumPy:\n",
    "- Create a total stats array (total_stats_np) using the .sum() method and specifying the correct axis.\n",
    "- Create an average stats array (avg_stats_np) using the .mean() method and specifying the correct axis.\n",
    "- Create a final output list (poke_list_np) by combining the names list, the total_stats_np array, and the avg_stats_np array."
   ]
  },
  {
   "cell_type": "code",
   "execution_count": 24,
   "metadata": {},
   "outputs": [
    {
     "name": "stdout",
     "output_type": "stream",
     "text": [
      "True \n",
      "\n",
      "[('Rufflet', 494, 82.33333333333333), ('Sableye', 310, 51.666666666666664), ('Salamence', 465, 77.5)]\n",
      "[('Rufflet', 494, 82.33333333333333), ('Sableye', 310, 51.666666666666664), ('Salamence', 465, 77.5)] \n",
      "\n",
      "3 strongest Pokémon:\n",
      "[('Rufflet', 494, 82.33333333333333), ('Salamence', 465, 77.5), ('Sandshrew', 420, 70.0)]\n"
     ]
    }
   ],
   "source": [
    "# Create a total stats array\n",
    "total_stats_np = stats.sum(axis=1)\n",
    "\n",
    "# Create an average stats array\n",
    "avg_stats_np = stats.mean(axis=1)\n",
    "\n",
    "# Combine names, total_stats_np, and avg_stats_np into a list\n",
    "poke_list_np = [*zip(names, total_stats_np, avg_stats_np)]\n",
    "\n",
    "print(poke_list_np == poke_list, '\\n')\n",
    "print(poke_list_np[:3])\n",
    "print(poke_list[:3], '\\n')\n",
    "top_3 = sorted(poke_list_np, key=lambda x: x[1], reverse=True)[:3]\n",
    "print('3 strongest Pokémon:\\n{}'.format(top_3))"
   ]
  },
  {
   "cell_type": "markdown",
   "metadata": {},
   "source": [
    "- Import Counter from the collections module.\n",
    "- Use Counter() to collect the count of each generation from the generations list. Save this as gen_counts.\n",
    "- Write a better for loop that places a one-time calculation outside (above) the loop. Use the exact same syntax as the original for loop (simply copy and paste the one-time calculation above the loop)."
   ]
  },
  {
   "cell_type": "code",
   "execution_count": 26,
   "metadata": {},
   "outputs": [],
   "source": [
    "gen_counts = {}\n",
    "for gen,count in gen_counts.items():\n",
    "    total_count = len(generations)\n",
    "    gen_percent = round(count / total_count * 100, 2)\n",
    "    print(\n",
    "      'generation {}: count = {:3} percentage = {}'\n",
    "      .format(gen, count, gen_percent)\n",
    "    )"
   ]
  },
  {
   "cell_type": "code",
   "execution_count": 27,
   "metadata": {},
   "outputs": [
    {
     "name": "stdout",
     "output_type": "stream",
     "text": [
      "generation 5: count =   2 percentage = 33.33\n",
      "generation 6: count =   1 percentage = 16.67\n",
      "generation 2: count =   1 percentage = 16.67\n",
      "generation 1: count =   1 percentage = 16.67\n",
      "generation 3: count =   1 percentage = 16.67\n"
     ]
    }
   ],
   "source": [
    "# Import Counter\n",
    "from collections import Counter\n",
    "\n",
    "# Collect the count of each generation\n",
    "gen_counts = Counter(generations)\n",
    "\n",
    "# Improve for loop by moving one calculation above the loop\n",
    "total_count = len(generations)\n",
    "\n",
    "for gen,count in gen_counts.items():\n",
    "    gen_percent = round(count / total_count * 100, 2)\n",
    "    print('generation {}: count = {:3} percentage = {}'\n",
    "          .format(gen, count, gen_percent))"
   ]
  },
  {
   "cell_type": "code",
   "execution_count": 30,
   "metadata": {},
   "outputs": [],
   "source": [
    "# possible_pairs = ['Bug', 'Dark', 'Dragon', 'Electric', 'Fairy', 'Fighting', 'Fire', 'Flying', 'Ghost', 'Grass', 'Ground', 'Ice', 'Normal', 'Poison', 'Psychic', 'Rock', 'Steel', 'Water']\n",
    "# enumerated_pairs = []\n",
    "\n",
    "# for i,pair in enumerate(possible_pairs, 1):\n",
    "#     enumerated_pair_tuple = (i,) + pair\n",
    "#     enumerated_pair_list = list(enumerated_pair_tuple)\n",
    "#     enumerated_pairs.append(enumerated_pair_list)"
   ]
  },
  {
   "cell_type": "code",
   "execution_count": 32,
   "metadata": {},
   "outputs": [
    {
     "name": "stdout",
     "output_type": "stream",
     "text": [
      "[[1, 'Grass', 'Ground'], [2, 'Grass', 'Ice'], [3, 'Grass', 'Normal'], [4, 'Grass', 'Poison'], [5, 'Grass', 'Psychic'], [6, 'Grass', 'Rock'], [7, 'Grass', 'Steel'], [8, 'Ground', 'Ice'], [9, 'Ground', 'Normal'], [10, 'Ground', 'Poison'], [11, 'Ground', 'Psychic'], [12, 'Ground', 'Rock'], [13, 'Ground', 'Steel'], [14, 'Ice', 'Normal'], [15, 'Ice', 'Poison'], [16, 'Ice', 'Psychic'], [17, 'Ice', 'Rock'], [18, 'Ice', 'Steel'], [19, 'Normal', 'Poison'], [20, 'Normal', 'Psychic'], [21, 'Normal', 'Rock'], [22, 'Normal', 'Steel'], [23, 'Poison', 'Psychic'], [24, 'Poison', 'Rock'], [25, 'Poison', 'Steel'], [26, 'Psychic', 'Rock'], [27, 'Psychic', 'Steel'], [28, 'Rock', 'Steel']]\n"
     ]
    }
   ],
   "source": [
    "pokemon_types = ['Grass', 'Ground', 'Ice', 'Normal', 'Poison', 'Psychic', 'Rock', 'Steel']\n",
    "# Collect all possible pairs using combinations()\n",
    "possible_pairs = [*combinations(pokemon_types, 2)]\n",
    "\n",
    "# Create an empty list called enumerated_tuples\n",
    "enumerated_tuples = [ ]\n",
    "\n",
    "# Append each enumerated_pair_tuple to the empty list above\n",
    "for i,pair in enumerate(possible_pairs, 1):\n",
    "    enumerated_pair_tuple = (i,) + pair\n",
    "    enumerated_tuples.append(enumerated_pair_tuple)\n",
    "\n",
    "# Convert all tuples in enumerated_tuples to a list\n",
    "enumerated_pairs = [*map(list, enumerated_tuples)]\n",
    "print(enumerated_pairs)"
   ]
  },
  {
   "cell_type": "code",
   "execution_count": 34,
   "metadata": {},
   "outputs": [],
   "source": [
    "hps = np.array([ 80.,  60., 131.,  62.,  71., 109.,  45.,  53.,  73.,  60.,  37.,\n",
    "        63.,  59.,  84.,  25.,  50.,  98., 116.,  29.,  85.,  43.,  46.])\n",
    "poke_zscores = []\n",
    "\n",
    "for name,hp in zip(names, hps):\n",
    "    hp_avg = hps.mean()\n",
    "    hp_std = hps.std()\n",
    "    z_score = (hp - hp_avg)/hp_std\n",
    "    poke_zscores.append((name, hp, z_score))\n",
    "    \n",
    "highest_hp_pokemon = []\n",
    "\n",
    "for name,hp,zscore in poke_zscores:\n",
    "    if zscore > 2:\n",
    "        highest_hp_pokemon.append((name, hp, zscore))"
   ]
  },
  {
   "cell_type": "markdown",
   "metadata": {},
   "source": [
    "- Use NumPy to eliminate the for loop used to create the z-scores.\n",
    "- Then, combine the names, hps, and z_scores objects together into a list called poke_zscores2."
   ]
  },
  {
   "cell_type": "code",
   "execution_count": 35,
   "metadata": {},
   "outputs": [
    {
     "name": "stdout",
     "output_type": "stream",
     "text": [
      "('Rufflet', 80.0, 0.4685018941988291)\n",
      "('Sableye', 60.0, -0.2650953778562773)\n",
      "('Salamence', 131.0, 2.3391749379393505)\n"
     ]
    }
   ],
   "source": [
    "# Calculate the total HP avg and total HP standard deviation\n",
    "hp_avg = hps.mean()\n",
    "hp_std = hps.std()\n",
    "\n",
    "# Use NumPy to eliminate the previous for loop\n",
    "z_scores = (hps - hp_avg)/hp_std\n",
    "\n",
    "# Combine names, hps, and z_scores\n",
    "poke_zscores2 = [*zip(names, hps, z_scores)]\n",
    "print(*poke_zscores2[:3], sep='\\n')"
   ]
  },
  {
   "cell_type": "markdown",
   "metadata": {},
   "source": [
    "- Use list comprehension to replace the for loop used to collect Pokémon with the highest HPs based on their z-score."
   ]
  },
  {
   "cell_type": "code",
   "execution_count": 36,
   "metadata": {},
   "outputs": [
    {
     "name": "stdout",
     "output_type": "stream",
     "text": [
      "('Salamence', 131.0, 2.3391749379393505)\n"
     ]
    }
   ],
   "source": [
    "# Use list comprehension with the same logic as the highest_hp_pokemon code block\n",
    "highest_hp_pokemon2 = [(name, hp, zscore) for name, hp, zscore in poke_zscores2 if zscore  > 2]\n",
    "print(*highest_hp_pokemon2, sep='\\n')"
   ]
  },
  {
   "cell_type": "markdown",
   "metadata": {},
   "source": [
    "- Use %%timeit (cell magic mode) within your IPython console to compare the runtimes between the original code blocks and the new code you developed using NumPy and list comprehension."
   ]
  },
  {
   "cell_type": "code",
   "execution_count": 37,
   "metadata": {},
   "outputs": [
    {
     "name": "stdout",
     "output_type": "stream",
     "text": [
      "329 µs ± 26.5 µs per loop (mean ± std. dev. of 7 runs, 1000 loops each)\n"
     ]
    }
   ],
   "source": [
    "%%timeit\n",
    "\n",
    "poke_zscores = []\n",
    "\n",
    "for name,hp in zip(names, hps):\n",
    "    hp_avg = hps.mean()\n",
    "    hp_std = hps.std()\n",
    "    z_score = (hp - hp_avg)/hp_std\n",
    "    poke_zscores.append((name, hp, z_score))\n",
    "    \n",
    "highest_hp_pokemon = []\n",
    "\n",
    "for name,hp,zscore in poke_zscores:\n",
    "    if zscore > 2:\n",
    "        highest_hp_pokemon.append((name, hp, zscore))"
   ]
  },
  {
   "cell_type": "code",
   "execution_count": 39,
   "metadata": {},
   "outputs": [
    {
     "name": "stdout",
     "output_type": "stream",
     "text": [
      "46.9 µs ± 15.6 µs per loop (mean ± std. dev. of 7 runs, 10000 loops each)\n"
     ]
    }
   ],
   "source": [
    "%%timeit\n",
    "\n",
    "# Calculate the total HP avg and total HP standard deviation\n",
    "hp_avg = hps.mean()\n",
    "hp_std = hps.std()\n",
    "\n",
    "# Use NumPy to eliminate the previous for loop\n",
    "z_scores = (hps - hp_avg)/hp_std\n",
    "\n",
    "# Combine names, hps, and z_scores\n",
    "poke_zscores2 = [*zip(names, hps, z_scores)]\n",
    "# print(*poke_zscores2[:3], sep='\\n')\n",
    "\n",
    "# Use list comprehension with the same logic as the highest_hp_pokemon code block\n",
    "highest_hp_pokemon2 = [(name, hp, zscore) for name, hp, zscore in poke_zscores2 if zscore  > 2]\n",
    "# print(*highest_hp_pokemon2, sep='\\n')"
   ]
  }
 ],
 "metadata": {
  "interpreter": {
   "hash": "1e949e87132dd83f1a7623eb88007e3532b03b66b77111be347aa4a383049722"
  },
  "kernelspec": {
   "display_name": "Python 3.8.11 ('env_py')",
   "language": "python",
   "name": "python3"
  },
  "language_info": {
   "codemirror_mode": {
    "name": "ipython",
    "version": 3
   },
   "file_extension": ".py",
   "mimetype": "text/x-python",
   "name": "python",
   "nbconvert_exporter": "python",
   "pygments_lexer": "ipython3",
   "version": "3.8.11"
  },
  "orig_nbformat": 4
 },
 "nbformat": 4,
 "nbformat_minor": 2
}
